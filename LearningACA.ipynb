{
 "cells": [
  {
   "cell_type": "code",
   "execution_count": 1,
   "id": "49c1b862",
   "metadata": {},
   "outputs": [],
   "source": [
    "from CaAttributes import CaNeighbourhoods, MemoryTypes, RuleTypes\n",
    "import itertools\n",
    "%load_ext autoreload\n",
    "%autoreload 2\n",
    "from CaMemory1D import CaMemory1D,Wraparound1D,periodic_padding,CustomCallback\n",
    "from AnticipatoryCA import AnticipatoryCA\n",
    "from ca_funcs import make_glider, make_game_of_life\n",
    "import tensorflow as tf\n",
    "import numpy as np\n",
    "import random\n",
    "from train_ca import *\n",
    "import matplotlib.pyplot as plt\n",
    "import os\n",
    "from sklearn.model_selection import train_test_split\n"
   ]
  },
  {
   "cell_type": "markdown",
   "id": "a49c783f",
   "metadata": {},
   "source": [
    "# Data Generation"
   ]
  },
  {
   "cell_type": "code",
   "execution_count": 11,
   "id": "f1641ed3",
   "metadata": {
    "scrolled": true
   },
   "outputs": [
    {
     "name": "stdout",
     "output_type": "stream",
     "text": [
      "Starting...\n",
      "Data generated\n"
     ]
    }
   ],
   "source": [
    "\n",
    "#Seedings and Config\n",
    " \n",
    "SEED =3\n",
    "RULE_NUMBER=110\n",
    "print(\"Starting...\")\n",
    "os.environ['PYTHONHASHSEED']=str(SEED)\n",
    "os.environ['TF_CUDNN_DETERMINISTIC'] = '1'  # TF 2.1\n",
    "random.seed(SEED)\n",
    "np.random.seed(SEED)\n",
    "tf.random.set_seed(SEED)\n",
    "tf.config.threading.set_inter_op_parallelism_threads(1)\n",
    " \n",
    "gridsize=10\n",
    " \n",
    "x_values = [seq for seq in itertools.product(\"01\", repeat=gridsize)]\n",
    "\n",
    "x_values = [[int(bit) for bit in seq] for seq in x_values]\n",
    "\n",
    "MEMORY_CONSTANT=1\n",
    "num_classes = 2  \n",
    "sequence_length=MEMORY_CONSTANT*2\n",
    " \n",
    "ca = CaMemory1D(grid_size=gridsize , rule_type=RuleTypes.Default,\n",
    "                memory_type=MemoryTypes.Default, memory_horizon=MEMORY_CONSTANT)\n",
    "\n",
    "ca.set_rule_number(RULE_NUMBER)\n",
    "sequences= np.array(ca.generate_training_data_sequences(x_values,sequence_length=sequence_length))\n",
    "\n",
    "\n",
    " \n",
    "\n",
    "np.random.shuffle(sequences)\n",
    "x_sequence=sequences[:,MEMORY_CONSTANT:MEMORY_CONSTANT*2]\n",
    "y_sequence=sequences[:,MEMORY_CONSTANT*2]\n",
    "x_sequence.reshape(-1,MEMORY_CONSTANT* gridsize,1)\n",
    " \n",
    "Y_val_onehot =  tf.squeeze( tf.one_hot(tf.cast( y_sequence.reshape(-1,  gridsize,1), tf.int32), num_classes))\n",
    " \n",
    "x_train = x_sequence\n",
    "  \n",
    "y_train_full= Y_val_onehot\n",
    "  \n",
    "loss = lambda x, y: tf.keras.losses.categorical_crossentropy(tf.reshape(x, shape=(-1, num_classes)),\n",
    "                                                            tf.reshape(y, shape=(-1, num_classes)) ,from_logits=True)\n",
    "                                             \n",
    "print(\"Data generated\") "
   ]
  },
  {
   "cell_type": "code",
   "execution_count": 12,
   "id": "dd4ff930",
   "metadata": {
    "scrolled": true
   },
   "outputs": [
    {
     "name": "stdout",
     "output_type": "stream",
     "text": [
      "(1024, 1, 10)\n",
      "(1024, 10, 1)\n",
      "x_train shape: (768, 10, 1)\n",
      "y_train shape: (768, 10, 2)\n",
      "x_val shape: (64, 10, 1)\n",
      "y_val shape: (64, 10, 2)\n",
      "x_test shape: (192, 10, 1)\n",
      "y_test shape: (192, 10, 2)\n"
     ]
    }
   ],
   "source": [
    "split_ratio = 0.25\n",
    "print(x_train.shape)\n",
    "x_train=x_train.reshape(-1,10,1)\n",
    "print(x_train.shape)\n",
    "split_point_x = int(len(x_train) * split_ratio)\n",
    "split_point_y = int(len(y_train_full) * split_ratio)\n",
    "\n",
    "x_test = x_train[:split_point_x]\n",
    "y_test = y_train_full[:split_point_y]\n",
    "x_train = x_train[split_point_x:]\n",
    "y_train = y_train_full[split_point_y:]\n",
    "\n",
    "\n",
    "split_point_x = int(len(x_test) * split_ratio)\n",
    "split_point_y = int(len(y_test) * split_ratio)\n",
    "\n",
    "\n",
    "x_val = x_test[:split_point_x]\n",
    "y_val = y_test[:split_point_x]\n",
    "x_test = x_test[split_point_x:]\n",
    "y_test = y_test[split_point_x:]\n",
    "\n",
    "\n",
    "print(\"x_train shape:\", x_train.shape)\n",
    "print(\"y_train shape:\", y_train.shape)\n",
    "print(\"x_val shape:\", x_val.shape)\n",
    "print(\"y_val shape:\", y_val.shape)\n",
    "print(\"x_test shape:\", x_test.shape)\n",
    "print(\"y_test shape:\", y_test.shape)\n"
   ]
  },
  {
   "cell_type": "code",
   "execution_count": 6,
   "id": "46b1476f",
   "metadata": {},
   "outputs": [
    {
     "data": {
      "text/plain": [
       "(768, 1, 10)"
      ]
     },
     "execution_count": 6,
     "metadata": {},
     "output_type": "execute_result"
    }
   ],
   "source": [
    "x_train.shape"
   ]
  },
  {
   "cell_type": "markdown",
   "id": "1bcdc3fc",
   "metadata": {},
   "source": [
    "# Training heuristics  \n",
    "\n",
    "## Removed layers\n",
    "\n"
   ]
  },
  {
   "cell_type": "code",
   "execution_count": 18,
   "id": "0bbdb15a",
   "metadata": {
    "scrolled": true
   },
   "outputs": [
    {
     "name": "stdout",
     "output_type": "stream",
     "text": [
      "Model: \"sequential_9\"\n",
      "_________________________________________________________________\n",
      " Layer (type)                Output Shape              Param #   \n",
      "=================================================================\n",
      " wraparound1d_9 (Wraparound1  (None, 12, 1)            0         \n",
      " D)                                                              \n",
      "                                                                 \n",
      " conv1d_18 (Conv1D)          (None, 10, 2)             8         \n",
      "                                                                 \n",
      " conv1d_19 (Conv1D)          (None, 10, 6)             18        \n",
      "                                                                 \n",
      " dense_9 (Dense)             (None, 10, 2)             14        \n",
      "                                                                 \n",
      "=================================================================\n",
      "Total params: 40\n",
      "Trainable params: 40\n",
      "Non-trainable params: 0\n",
      "_________________________________________________________________\n",
      "Epoch 1/3\n",
      "384/384 [==============================] - 1s 2ms/step - loss: 0.6917 - accuracy: 0.5286 - val_loss: 0.6928 - val_accuracy: 0.5156\n",
      "Epoch 2/3\n",
      "384/384 [==============================] - 1s 1ms/step - loss: 0.6916 - accuracy: 0.5286 - val_loss: 0.6929 - val_accuracy: 0.5156\n",
      "Epoch 3/3\n",
      "384/384 [==============================] - 1s 2ms/step - loss: 0.6916 - accuracy: 0.5286 - val_loss: 0.6929 - val_accuracy: 0.5156\n"
     ]
    },
    {
     "data": {
      "text/plain": [
       "<keras.callbacks.History at 0x1c2d59e3880>"
      ]
     },
     "execution_count": 18,
     "metadata": {},
     "output_type": "execute_result"
    }
   ],
   "source": [
    "memory_horizon=MEMORY_CONSTANT# is equal to 1\n",
    "heuristic = tf.keras.Sequential()\n",
    "heuristic.add(tf.keras.layers.InputLayer(input_shape=(memory_horizon * gridsize, 1)))  # Reshape input shape\n",
    "heuristic.add(Wraparound1D(padding=1))\n",
    "heuristic.add(tf.keras.layers.Conv1D(2, 3, activation='relu', padding='valid',  trainable=True) )\n",
    "\n",
    "heuristic.add(tf.keras.layers.Conv1D(6, 1, activation='relu', padding='same'))\n",
    " \n",
    "heuristic.add(tf.keras.layers.Dense(units=2, activation=\"softmax\" ,\n",
    "                                kernel_initializer=tf.keras.initializers.Ones(), \n",
    "                                bias_initializer=tf.keras.initializers.he_normal()))\n",
    "\n",
    "heuristic.compile(optimizer=tf.keras.optimizers.Adam(learning_rate=1e-3),loss=loss, metrics=['accuracy'])\n",
    "heuristic.summary()\n",
    "early_stopping_callback = CustomCallback()\n",
    "heuristic.fit(x_train, y_train, validation_data=(x_val,y_val), epochs=3\n",
    "        , batch_size=2,callbacks=[early_stopping_callback])\n",
    "\n"
   ]
  },
  {
   "cell_type": "markdown",
   "id": "3b0e23b8",
   "metadata": {},
   "source": [
    "# Accuracy too low  "
   ]
  },
  {
   "cell_type": "code",
   "execution_count": 32,
   "id": "50a961f1",
   "metadata": {},
   "outputs": [
    {
     "data": {
      "image/png": "[encoded data removed]",
      "text/plain": [
       "<Figure size 640x480 with 1 Axes>"
      ]
     },
     "metadata": {},
     "output_type": "display_data"
    },
    {
     "data": {
      "image/png": "[encoded data removed]",
      "text/plain": [
       "<Figure size 640x480 with 1 Axes>"
      ]
     },
     "metadata": {},
     "output_type": "display_data"
    },
    {
     "data": {
      "image/png": "[encoded data removed]",
      "text/plain": [
       "<Figure size 640x480 with 1 Axes>"
      ]
     },
     "metadata": {},
     "output_type": "display_data"
    }
   ],
   "source": [
    "ca = CaMemory1D(grid_size=gridsize , rule_type=RuleTypes.Default,\n",
    "                memory_type=MemoryTypes.Default, memory_horizon=1)\n",
    "cah = CaMemory1D(grid_size=gridsize , rule_type=RuleTypes.Default,\n",
    "                memory_type=MemoryTypes.Default, memory_horizon=1)\n",
    "init_state_nr=102\n",
    "steps=30\n",
    "#cah.set_state_reset(x_values[init_state_nr])\n",
    "#ca.set_state_reset(x_values[init_state_nr])\n",
    "ca.set_rule_number(RULE_NUMBER)\n",
    " \n",
    "cah.set_rule_number(RULE_NUMBER)\n",
    "ca.set_rule_number(RULE_NUMBER)\n",
    "\n",
    "ca.step_multiple(steps)\n",
    "cah.step_with_model(heuristic,(1,gridsize,1),steps)\n",
    "figure,img=ca.render_state()\n",
    "figure.savefig(\"rule73_heur_ca.png\", dpi=300, bbox_inches='tight')\n",
    "figure,img=cah.render_state()\n",
    "figure.savefig(\"rule73_heur.png\", dpi=300, bbox_inches='tight')\n",
    "###################\n",
    "aca=AnticipatoryCA(grid_size=gridsize,heuristic=heuristic , rule_type=RuleTypes.Default,\n",
    "                memory_type=MemoryTypes.Default, memory_horizon=1)\n",
    "aca.set_rule_number(RULE_NUMBER)\n",
    "#aca.set_state_reset(x_values[init_state_nr]) \n",
    "aca.weak_anticipation_step_multiple(steps)\n",
    "figure,img=aca.render_state()\n",
    "figure.savefig(\"rule73_heur_aca.png\", dpi=300, bbox_inches='tight')"
   ]
  },
  {
   "cell_type": "markdown",
   "id": "81aa49cc",
   "metadata": {},
   "source": [
    "# Quantized Model"
   ]
  },
  {
   "cell_type": "code",
   "execution_count": 21,
   "id": "1e8b90ab",
   "metadata": {
    "scrolled": true
   },
   "outputs": [
    {
     "name": "stdout",
     "output_type": "stream",
     "text": [
      "Model: \"sequential_11\"\n",
      "_________________________________________________________________\n",
      " Layer (type)                Output Shape              Param #   \n",
      "=================================================================\n",
      " wraparound1d_11 (Wraparound  (None, 12, 1)            0         \n",
      " 1D)                                                             \n",
      "                                                                 \n",
      " conv1d_22 (Conv1D)          (None, 10, 10)            40        \n",
      "                                                                 \n",
      " conv1d_23 (Conv1D)          (None, 10, 10)            110       \n",
      "                                                                 \n",
      " dense_11 (Dense)            (None, 10, 2)             22        \n",
      "                                                                 \n",
      "=================================================================\n",
      "Total params: 172\n",
      "Trainable params: 172\n",
      "Non-trainable params: 0\n",
      "_________________________________________________________________\n",
      "Epoch 1/2\n",
      "384/384 [==============================] - 1s 3ms/step - loss: 0.5917 - accuracy: 0.6874 - val_loss: 0.4513 - val_accuracy: 1.0000\n"
     ]
    },
    {
     "data": {
      "text/plain": [
       "<keras.callbacks.History at 0x1c2d5a60910>"
      ]
     },
     "execution_count": 21,
     "metadata": {},
     "output_type": "execute_result"
    }
   ],
   "source": [
    "\n",
    "quantized_heuristic = tf.keras.Sequential()\n",
    "quantized_heuristic.add(tf.keras.layers.InputLayer(input_shape=(memory_horizon * gridsize, 1)))  # Reshape input shape\n",
    "quantized_heuristic.add(Wraparound1D(padding=1))\n",
    "quantized_heuristic.add(tf.keras.layers.Conv1D(10, 3, activation='relu', padding='valid',  trainable=True) )\n",
    "\n",
    "quantized_heuristic.add(tf.keras.layers.Conv1D(10, 1, activation='relu', padding='same'))\n",
    " \n",
    "quantized_heuristic.add(tf.keras.layers.Dense(units=2, activation=\"softmax\" ,\n",
    "                                kernel_initializer=tf.keras.initializers.Ones(), \n",
    "                                bias_initializer=tf.keras.initializers.he_normal()))\n",
    "\n",
    "quantized_heuristic.compile(optimizer=tf.keras.optimizers.Adam(learning_rate=1e-3),loss=loss, metrics=['accuracy'])\n",
    "quantized_heuristic.summary()\n",
    "early_stopping_callback = CustomCallback()\n",
    "x_train=x_train.reshape(-1,MEMORY_CONSTANT*gridsize,1)\n",
    "quantized_heuristic.fit(x_train, y_train, validation_data=(x_train, y_train), epochs=2\n",
    "        , batch_size=2,callbacks=[early_stopping_callback])\n",
    " \n",
    "\n",
    "\n"
   ]
  },
  {
   "cell_type": "markdown",
   "id": "4f4ee4e6",
   "metadata": {},
   "source": [
    "# Quantization drastically decreases accuracy"
   ]
  },
  {
   "cell_type": "code",
   "execution_count": 22,
   "id": "523275d1",
   "metadata": {},
   "outputs": [
    {
     "name": "stdout",
     "output_type": "stream",
     "text": [
      "24/24 [==============================] - 0s 1000us/step - loss: 0.6931 - accuracy: 0.4714\n",
      "[0.6931474208831787, 0.4713541567325592]\n",
      "[<tf.Variable 'conv1d_22/kernel:0' shape=(3, 1, 10) dtype=float32, numpy=\n",
      "array([[[ 0.,  0.,  0.,  0.,  0.,  0.,  1., -1., -1.,  0.]],\n",
      "\n",
      "       [[ 0.,  1.,  0.,  0.,  0.,  0.,  0.,  0.,  0.,  1.]],\n",
      "\n",
      "       [[ 0., -1.,  0.,  1.,  1.,  0.,  0.,  0.,  1., -1.]]],\n",
      "      dtype=float32)>, <tf.Variable 'conv1d_22/bias:0' shape=(10,) dtype=float32, numpy=array([0., 0., 0., 0., 0., 0., 0., 0., 0., 0.], dtype=float32)>, <tf.Variable 'conv1d_23/kernel:0' shape=(1, 10, 10) dtype=float32, numpy=\n",
      "array([[[ 0.,  0.,  0.,  0.,  0.,  0.,  0.,  0.,  0.,  0.],\n",
      "        [ 0.,  0.,  1.,  0.,  1.,  0.,  1.,  0.,  0.,  0.],\n",
      "        [ 0.,  0.,  0.,  0.,  1., -1.,  0.,  0.,  0.,  0.],\n",
      "        [ 1.,  0.,  0.,  0.,  1.,  1.,  1.,  0.,  0.,  1.],\n",
      "        [ 1.,  1.,  0.,  0.,  1.,  1.,  0.,  1.,  0., -1.],\n",
      "        [ 1.,  1.,  0.,  0.,  0.,  1.,  0.,  1.,  0., -1.],\n",
      "        [ 0.,  0.,  0., -1.,  0.,  0.,  0.,  0., -1.,  1.],\n",
      "        [ 1.,  0.,  1.,  0.,  1.,  0.,  1.,  1.,  0., -1.],\n",
      "        [ 0., -1.,  0.,  0.,  0.,  1.,  0.,  0.,  0.,  1.],\n",
      "        [ 1.,  1.,  1.,  0.,  1.,  0.,  1.,  1.,  0.,  0.]]],\n",
      "      dtype=float32)>, <tf.Variable 'conv1d_23/bias:0' shape=(10,) dtype=float32, numpy=array([0., 0., 0., 0., 0., 0., 0., 0., 0., 0.], dtype=float32)>, <tf.Variable 'dense_11/kernel:0' shape=(10, 2) dtype=float32, numpy=\n",
      "array([[1., 1.],\n",
      "       [1., 1.],\n",
      "       [1., 1.],\n",
      "       [1., 1.],\n",
      "       [1., 1.],\n",
      "       [1., 1.],\n",
      "       [1., 1.],\n",
      "       [1., 1.],\n",
      "       [1., 1.],\n",
      "       [1., 1.]], dtype=float32)>, <tf.Variable 'dense_11/bias:0' shape=(2,) dtype=float32, numpy=array([0., 0.], dtype=float32)>]\n"
     ]
    }
   ],
   "source": [
    "def round_and_convert_to_int(x):\n",
    "    return np.round(x).astype(np.int32)\n",
    "for indx,layer in enumerate(quantized_heuristic.layers):\n",
    "    if isinstance(layer, tf.keras.layers.Conv1D) or isinstance(layer, tf.keras.layers.Dense):\n",
    "        weights, biases = layer.get_weights()\n",
    "        layer.set_weights([round_and_convert_to_int(weights), round_and_convert_to_int(biases)])\n",
    "        quantized_heuristic.layers[indx]=layer\n",
    "         \n",
    "print(quantized_heuristic.evaluate(x_train,y_train))\n",
    "print(quantized_heuristic.weights)"
   ]
  },
  {
   "cell_type": "markdown",
   "id": "ff3bf8a9",
   "metadata": {},
   "source": [
    "# Pruned Heuristic seems to have no effect"
   ]
  },
  {
   "cell_type": "code",
   "execution_count": 27,
   "id": "5a38ec3d",
   "metadata": {
    "scrolled": true
   },
   "outputs": [
    {
     "name": "stdout",
     "output_type": "stream",
     "text": [
      "Model: \"sequential_21\"\n",
      "_________________________________________________________________\n",
      " Layer (type)                Output Shape              Param #   \n",
      "=================================================================\n",
      " wraparound1d_16 (Wraparound  (None, 12, 1)            0         \n",
      " 1D)                                                             \n",
      "                                                                 \n",
      " conv1d_32 (Conv1D)          (None, 10, 10)            40        \n",
      "                                                                 \n",
      " conv1d_33 (Conv1D)          (None, 10, 10)            110       \n",
      "                                                                 \n",
      " dense_16 (Dense)            (None, 10, 2)             22        \n",
      "                                                                 \n",
      "=================================================================\n",
      "Total params: 172\n",
      "Trainable params: 172\n",
      "Non-trainable params: 0\n",
      "_________________________________________________________________\n",
      "384/384 [==============================] - 1s 2ms/step - loss: 0.5967 - accuracy: 0.7772 - val_loss: 0.4318 - val_accuracy: 1.0000\n",
      "Model: \"sequential_23\"\n",
      "_________________________________________________________________\n",
      " Layer (type)                Output Shape              Param #   \n",
      "=================================================================\n",
      " wraparound1d_16 (Wraparound  (None, 12, 1)            0         \n",
      " 1D)                                                             \n",
      "                                                                 \n",
      " prune_low_magnitude_conv1d_  (None, 10, 10)           72        \n",
      " 32 (PruneLowMagnitude)                                          \n",
      "                                                                 \n",
      " prune_low_magnitude_conv1d_  (None, 10, 10)           212       \n",
      " 33 (PruneLowMagnitude)                                          \n",
      "                                                                 \n",
      " prune_low_magnitude_dense_1  (None, 10, 2)            44        \n",
      " 6 (PruneLowMagnitude)                                           \n",
      "                                                                 \n",
      "=================================================================\n",
      "Total params: 328\n",
      "Trainable params: 172\n",
      "Non-trainable params: 156\n",
      "_________________________________________________________________\n"
     ]
    }
   ],
   "source": [
    "\n",
    "import tensorflow_model_optimization as tfmot\n",
    "\n",
    "pruned_heuristic = tf.keras.Sequential()\n",
    "pruned_heuristic.add(tf.keras.layers.InputLayer(input_shape=(memory_horizon * gridsize, 1)))  # Reshape input shape\n",
    "pruned_heuristic.add(Wraparound1D(padding=1))\n",
    "pruned_heuristic.add(tf.keras.layers.Conv1D(10, 3, activation='relu', padding='valid',  trainable=True) )\n",
    "\n",
    "pruned_heuristic.add(tf.keras.layers.Conv1D(10, 1, activation='relu', padding='same'))\n",
    " \n",
    "pruned_heuristic.add(tf.keras.layers.Dense(units=2, activation=\"softmax\" ,\n",
    "                                kernel_initializer=tf.keras.initializers.Ones(), \n",
    "                                bias_initializer=tf.keras.initializers.he_normal()))\n",
    "\n",
    "pruned_heuristic.compile(optimizer=tf.keras.optimizers.Adam(learning_rate=1e-3),loss=loss, metrics=['accuracy'])\n",
    "pruned_heuristic.summary()\n",
    "pruned_model=pruned_heuristic\n",
    "begin_step = 0\n",
    "end_step = 5000  \n",
    "\n",
    "\n",
    "pruning_params = {\n",
    "      'pruning_schedule': tfmot.sparsity.keras.PolynomialDecay(initial_sparsity=0.00,\n",
    "                                                               final_sparsity=0.87,\n",
    "                                                               begin_step=0,\n",
    "                                                               end_step=end_step)\n",
    "}\n",
    " \n",
    "#wraparound layer removed because its a custom layer\n",
    "first_layers = pruned_model.layers[:1]\n",
    "original_model = tf.keras.Sequential(pruned_model.layers[1:])\n",
    "\n",
    "\n",
    "original_model_pruned = tfmot.sparsity.keras.prune_low_magnitude(original_model, **pruning_params)\n",
    "\n",
    " \n",
    "pruned_heuristic_final = tf.keras.Sequential()\n",
    "for layer in first_layers:\n",
    "    pruned_heuristic_final.add(layer)\n",
    "    \n",
    "for layer in original_model_pruned.layers:\n",
    "    pruned_heuristic_final.add(layer)\n",
    "    \n",
    "pruning_callback = tfmot.sparsity.keras.UpdatePruningStep()\n",
    "pruned_heuristic_final.compile(optimizer='adam',loss=loss,metrics=['accuracy'] )\n",
    "\n",
    "pruned_heuristic_final.build(input_shape=(None,gridsize,1))\n",
    "pruned_heuristic.fit(x_train , y_train , validation_data=(x_val, y_val), epochs=1\n",
    "        , batch_size=2,callbacks=[early_stopping_callback,pruning_callback])\n",
    "pruned_heuristic_final.summary()\n"
   ]
  },
  {
   "cell_type": "code",
   "execution_count": 17,
   "id": "aa8a4d1c",
   "metadata": {},
   "outputs": [
    {
     "data": {
      "text/plain": [
       "(512, 20, 1)"
      ]
     },
     "execution_count": 17,
     "metadata": {},
     "output_type": "execute_result"
    }
   ],
   "source": [
    "x_train.shape"
   ]
  },
  {
   "cell_type": "markdown",
   "id": "35f80d9e",
   "metadata": {},
   "source": [
    "# Adding gaussian noise to weights can result in better heuristics"
   ]
  },
  {
   "cell_type": "code",
   "execution_count": 68,
   "id": "e8790799",
   "metadata": {},
   "outputs": [
    {
     "name": "stdout",
     "output_type": "stream",
     "text": [
      "Model: \"sequential_43\"\n",
      "_________________________________________________________________\n",
      " Layer (type)                Output Shape              Param #   \n",
      "=================================================================\n",
      " wraparound1d_36 (Wraparound  (None, 12, 1)            0         \n",
      " 1D)                                                             \n",
      "                                                                 \n",
      " conv1d_72 (Conv1D)          (None, 10, 10)            40        \n",
      "                                                                 \n",
      " conv1d_73 (Conv1D)          (None, 10, 10)            110       \n",
      "                                                                 \n",
      " dense_36 (Dense)            (None, 10, 2)             22        \n",
      "                                                                 \n",
      "=================================================================\n",
      "Total params: 172\n",
      "Trainable params: 172\n",
      "Non-trainable params: 0\n",
      "_________________________________________________________________\n",
      "Epoch 1/2\n",
      "768/768 [==============================] - 2s 2ms/step - loss: 0.6632 - accuracy: 0.5753 - val_loss: 0.5237 - val_accuracy: 0.8135\n",
      "Epoch 2/2\n",
      "768/768 [==============================] - 2s 2ms/step - loss: 0.4158 - accuracy: 0.9568 - val_loss: 0.3420 - val_accuracy: 1.0000\n"
     ]
    },
    {
     "data": {
      "text/plain": [
       "<keras.callbacks.History at 0x1c2fe5f8d60>"
      ]
     },
     "execution_count": 68,
     "metadata": {},
     "output_type": "execute_result"
    }
   ],
   "source": [
    "memory_horizon=MEMORY_CONSTANT\n",
    "heuristic = tf.keras.Sequential()\n",
    "heuristic.add(tf.keras.layers.InputLayer(input_shape=(memory_horizon * gridsize, 1)))  # Reshape input shape\n",
    "heuristic.add(Wraparound1D(padding=1))\n",
    "heuristic.add(tf.keras.layers.Conv1D(10, 3, activation='relu', padding='valid',  trainable=True) )\n",
    "\n",
    "heuristic.add(tf.keras.layers.Conv1D(10, 1, activation='relu', padding='same'))\n",
    " \n",
    "heuristic.add(tf.keras.layers.Dense(units=2, activation=\"softmax\" ,\n",
    "                                kernel_initializer=tf.keras.initializers.Ones(), \n",
    "                                bias_initializer=tf.keras.initializers.he_normal()))\n",
    "\n",
    "heuristic.compile(optimizer=tf.keras.optimizers.Adam(learning_rate=1e-3),loss=loss, metrics=['accuracy'])\n",
    "heuristic.summary()\n",
    "early_stopping_callback = CustomCallback()\n",
    "x_train=x_train.reshape(-1,MEMORY_CONSTANT*gridsize,1)\n",
    "heuristic.fit(x_train, y_train, validation_data=(x_train, y_train), epochs=2\n",
    "        , batch_size=1,callbacks=[early_stopping_callback])\n",
    " "
   ]
  },
  {
   "cell_type": "code",
   "execution_count": 72,
   "id": "16062527",
   "metadata": {},
   "outputs": [
    {
     "name": "stdout",
     "output_type": "stream",
     "text": [
      "24/24 [==============================] - 0s 957us/step - loss: 0.5177 - accuracy: 0.7139\n",
      "6/6 [==============================] - 0s 1ms/step - loss: 0.4811 - accuracy: 0.7474\n",
      "6/6 [==============================] - 0s 1ms/step - loss: 0.4944 - accuracy: 0.7474\n",
      "6/6 [==============================] - 0s 1ms/step - loss: 0.5065 - accuracy: 0.7474\n",
      "6/6 [==============================] - 0s 1ms/step - loss: 0.5114 - accuracy: 0.7474\n",
      "6/6 [==============================] - 0s 1ms/step - loss: 0.5387 - accuracy: 0.7474\n",
      "6/6 [==============================] - 0s 1000us/step - loss: 0.5476 - accuracy: 0.7474\n",
      "6/6 [==============================] - 0s 1000us/step - loss: 0.5490 - accuracy: 0.7474\n",
      "6/6 [==============================] - 0s 1ms/step - loss: 0.5492 - accuracy: 0.7474\n",
      "6/6 [==============================] - 0s 1000us/step - loss: 0.5253 - accuracy: 0.7474\n",
      "6/6 [==============================] - 0s 1ms/step - loss: 0.5246 - accuracy: 0.7474\n",
      "6/6 [==============================] - 0s 1ms/step - loss: 0.5214 - accuracy: 0.7474\n",
      "6/6 [==============================] - 0s 1ms/step - loss: 0.5227 - accuracy: 0.7474\n",
      "6/6 [==============================] - 0s 1ms/step - loss: 0.5442 - accuracy: 0.7474\n",
      "6/6 [==============================] - 0s 1ms/step - loss: 0.5488 - accuracy: 0.7474\n",
      "6/6 [==============================] - 0s 1ms/step - loss: 0.4907 - accuracy: 0.7474\n",
      "6/6 [==============================] - 0s 1ms/step - loss: 0.4937 - accuracy: 0.7474\n",
      "6/6 [==============================] - 0s 1ms/step - loss: 0.4553 - accuracy: 0.7474\n",
      "6/6 [==============================] - 0s 1ms/step - loss: 0.4488 - accuracy: 0.7474\n",
      "6/6 [==============================] - 0s 1ms/step - loss: 0.4577 - accuracy: 0.7474\n",
      "6/6 [==============================] - 0s 1ms/step - loss: 0.4590 - accuracy: 0.7474\n",
      "6/6 [==============================] - 0s 1ms/step - loss: 0.4436 - accuracy: 1.0000\n",
      "6/6 [==============================] - 0s 1000us/step - loss: 0.4456 - accuracy: 1.0000\n",
      "6/6 [==============================] - 0s 1ms/step - loss: 0.4191 - accuracy: 1.0000\n",
      "6/6 [==============================] - 0s 1000us/step - loss: 0.4165 - accuracy: 1.0000\n",
      "6/6 [==============================] - 0s 1ms/step - loss: 0.4188 - accuracy: 1.0000\n",
      "6/6 [==============================] - 0s 1ms/step - loss: 0.4175 - accuracy: 1.0000\n",
      "6/6 [==============================] - 0s 1ms/step - loss: 0.4014 - accuracy: 1.0000\n",
      "6/6 [==============================] - 0s 1ms/step - loss: 0.4021 - accuracy: 1.0000\n",
      "6/6 [==============================] - 0s 1ms/step - loss: 0.4245 - accuracy: 1.0000\n",
      "6/6 [==============================] - 0s 1ms/step - loss: 0.4238 - accuracy: 1.0000\n",
      "6/6 [==============================] - 0s 1ms/step - loss: 0.4765 - accuracy: 0.7474\n",
      "6/6 [==============================] - 0s 1ms/step - loss: 0.4704 - accuracy: 1.0000\n",
      "6/6 [==============================] - 0s 1ms/step - loss: 0.4531 - accuracy: 1.0000\n",
      "6/6 [==============================] - 0s 1ms/step - loss: 0.4520 - accuracy: 1.0000\n",
      "6/6 [==============================] - 0s 1ms/step - loss: 0.5176 - accuracy: 0.7474\n",
      "6/6 [==============================] - 0s 1ms/step - loss: 0.5250 - accuracy: 0.7474\n",
      "6/6 [==============================] - 0s 1ms/step - loss: 0.5270 - accuracy: 0.7474\n",
      "6/6 [==============================] - 0s 1ms/step - loss: 0.5240 - accuracy: 0.7474\n",
      "6/6 [==============================] - 0s 1ms/step - loss: 0.5158 - accuracy: 0.7474\n",
      "6/6 [==============================] - 0s 1ms/step - loss: 0.5195 - accuracy: 0.7474\n",
      "6/6 [==============================] - 0s 1ms/step - loss: 0.5322 - accuracy: 0.7474\n",
      "6/6 [==============================] - 0s 1ms/step - loss: 0.5406 - accuracy: 0.7474\n",
      "6/6 [==============================] - 0s 1ms/step - loss: 0.5677 - accuracy: 0.7474\n",
      "6/6 [==============================] - 0s 1ms/step - loss: 0.5681 - accuracy: 0.7474\n",
      "6/6 [==============================] - 0s 1ms/step - loss: 0.5765 - accuracy: 0.7474\n",
      "6/6 [==============================] - 0s 1ms/step - loss: 0.5683 - accuracy: 0.7474\n",
      "6/6 [==============================] - 0s 1ms/step - loss: 0.5586 - accuracy: 0.7474\n",
      "6/6 [==============================] - 0s 1ms/step - loss: 0.5669 - accuracy: 0.7474\n",
      "6/6 [==============================] - 0s 1ms/step - loss: 0.5331 - accuracy: 0.7474\n",
      "6/6 [==============================] - 0s 1ms/step - loss: 0.5334 - accuracy: 0.7474\n",
      "6/6 [==============================] - 0s 1ms/step - loss: 0.4700 - accuracy: 1.0000\n",
      "6/6 [==============================] - 0s 1ms/step - loss: 0.4694 - accuracy: 1.0000\n",
      "6/6 [==============================] - 0s 1ms/step - loss: 0.4474 - accuracy: 1.0000\n",
      "6/6 [==============================] - 0s 1ms/step - loss: 0.4480 - accuracy: 1.0000\n",
      "6/6 [==============================] - 0s 1ms/step - loss: 0.4621 - accuracy: 1.0000\n",
      "6/6 [==============================] - 0s 1ms/step - loss: 0.4697 - accuracy: 1.0000\n",
      "6/6 [==============================] - 0s 1ms/step - loss: 0.4611 - accuracy: 1.0000\n",
      "6/6 [==============================] - 0s 1ms/step - loss: 0.4696 - accuracy: 1.0000\n",
      "6/6 [==============================] - 0s 1000us/step - loss: 0.4366 - accuracy: 1.0000\n",
      "6/6 [==============================] - 0s 1ms/step - loss: 0.4347 - accuracy: 1.0000\n",
      "6/6 [==============================] - 0s 1ms/step - loss: 0.4442 - accuracy: 1.0000\n",
      "6/6 [==============================] - 0s 1ms/step - loss: 0.4412 - accuracy: 1.0000\n",
      "6/6 [==============================] - 0s 1ms/step - loss: 0.4378 - accuracy: 1.0000\n",
      "6/6 [==============================] - 0s 1ms/step - loss: 0.4365 - accuracy: 1.0000\n",
      "6/6 [==============================] - 0s 1ms/step - loss: 0.4510 - accuracy: 1.0000\n",
      "6/6 [==============================] - 0s 1ms/step - loss: 0.4507 - accuracy: 1.0000\n",
      "6/6 [==============================] - 0s 1ms/step - loss: 0.4372 - accuracy: 1.0000\n",
      "6/6 [==============================] - 0s 1ms/step - loss: 0.4373 - accuracy: 1.0000\n",
      "6/6 [==============================] - 0s 1ms/step - loss: 0.4383 - accuracy: 1.0000\n",
      "6/6 [==============================] - 0s 1ms/step - loss: 0.4459 - accuracy: 1.0000\n",
      "6/6 [==============================] - 0s 1ms/step - loss: 0.4311 - accuracy: 1.0000\n",
      "6/6 [==============================] - 0s 1ms/step - loss: 0.4277 - accuracy: 1.0000\n",
      "6/6 [==============================] - 0s 1ms/step - loss: 0.4277 - accuracy: 1.0000\n",
      "6/6 [==============================] - 0s 1ms/step - loss: 0.4313 - accuracy: 1.0000\n",
      "6/6 [==============================] - 0s 1000us/step - loss: 0.4298 - accuracy: 1.0000\n",
      "6/6 [==============================] - 0s 1ms/step - loss: 0.4304 - accuracy: 1.0000\n",
      "6/6 [==============================] - 0s 1ms/step - loss: 0.4359 - accuracy: 0.9042\n",
      "6/6 [==============================] - 0s 1ms/step - loss: 0.4349 - accuracy: 1.0000\n",
      "6/6 [==============================] - 0s 1000us/step - loss: 0.4409 - accuracy: 1.0000\n",
      "6/6 [==============================] - 0s 1ms/step - loss: 0.4389 - accuracy: 0.9042\n",
      "0.9041666388511658\n"
     ]
    }
   ],
   "source": [
    "noise_model=heuristic\n",
    "\n",
    "conv_layers = [layer for layer in noise_model.layers if isinstance(layer, tf.keras.layers.Conv1D)]\n",
    "acc=noise_model.evaluate(x_train,y_train)[1]\n",
    "while(acc ==1 or acc <0.90):\n",
    "    for conv_layer in conv_layers:\n",
    "        weights, biases = conv_layer.get_weights()\n",
    "        noise = np.random.normal(0, 0.03, weights.shape)  \n",
    "        weights_with_noise = weights + noise\n",
    "        conv_layer.set_weights([weights_with_noise, biases])\n",
    "        acc=noise_model.evaluate(x_test,y_test)[1]\n",
    "        \n",
    "\n",
    "print(acc)"
   ]
  },
  {
   "cell_type": "code",
   "execution_count": 73,
   "id": "e2af9150",
   "metadata": {},
   "outputs": [
    {
     "data": {
      "image/png": "[encoded data removed]",
      "text/plain": [
       "<Figure size 640x480 with 1 Axes>"
      ]
     },
     "metadata": {},
     "output_type": "display_data"
    },
    {
     "data": {
      "image/png": "[encoded data removed]",
      "text/plain": [
       "<Figure size 640x480 with 1 Axes>"
      ]
     },
     "metadata": {},
     "output_type": "display_data"
    },
    {
     "data": {
      "image/png": "[encoded data removed]",
      "text/plain": [
       "<Figure size 640x480 with 1 Axes>"
      ]
     },
     "metadata": {},
     "output_type": "display_data"
    }
   ],
   "source": [
    "ca = CaMemory1D(grid_size=gridsize , rule_type=RuleTypes.Default,\n",
    "                memory_type=MemoryTypes.Most_Frequent, memory_horizon=4)\n",
    "cah = CaMemory1D(grid_size=gridsize , rule_type=RuleTypes.Default,\n",
    "                memory_type=MemoryTypes.Default, memory_horizon=1)\n",
    "init_state_nr=102\n",
    "steps=30\n",
    "cah.set_state_reset(x_values[init_state_nr])\n",
    "ca.set_state_reset(x_values[init_state_nr])\n",
    "ca.set_rule_number(RULE_NUMBER)\n",
    " \n",
    "cah.set_rule_number(RULE_NUMBER)\n",
    "ca.set_rule_number(RULE_NUMBER)\n",
    "\n",
    "ca.step_multiple(steps)\n",
    "cah.step_with_model(noise_model,(1,gridsize,1),steps)\n",
    "figure,img=ca.render_state()\n",
    "figure.savefig(\"rule110_goodheur_ca.png\", dpi=300, bbox_inches='tight')\n",
    "figure,img=cah.render_state()\n",
    "figure.savefig(\"rule110_goodheur.png\", dpi=300, bbox_inches='tight')\n",
    "###################\n",
    "aca=AnticipatoryCA(grid_size=gridsize,heuristic=noise_model , rule_type=RuleTypes.Default,\n",
    "                memory_type=MemoryTypes.Default, memory_horizon=1)\n",
    "aca.set_rule_number(RULE_NUMBER)\n",
    "aca.set_state_reset(x_values[init_state_nr]) \n",
    "aca.weak_anticipation_step_multiple(steps)\n",
    "figure,img=aca.render_state()\n",
    "\n",
    "\n",
    "figure.savefig(\"rule110_goodheur_aca.png\", dpi=300, bbox_inches='tight')"
   ]
  },
  {
   "cell_type": "code",
   "execution_count": 81,
   "id": "1dd1ab8e",
   "metadata": {},
   "outputs": [
    {
     "name": "stdout",
     "output_type": "stream",
     "text": [
      "Data generated\n"
     ]
    }
   ],
   "source": [
    "x_values = [seq for seq in itertools.product(\"01\", repeat=gridsize)]\n",
    "\n",
    "x_values = [[int(bit) for bit in seq] for seq in x_values]\n",
    "\n",
    "MEMORY_CONSTANT=2\n",
    " \n",
    "sequence_length=MEMORY_CONSTANT*2\n",
    " \n",
    "sequences= np.array(aca.generate_training_data_sequences(x_values,sequence_length=sequence_length))\n",
    "\n",
    "print(\"Data generated\") \n",
    " \n",
    "n = gridsize\n",
    "np.random.shuffle(sequences)\n",
    "x_sequence=sequences[:,MEMORY_CONSTANT:MEMORY_CONSTANT*2]\n",
    "y_sequence=sequences[:,MEMORY_CONSTANT*2]\n",
    "x_sequence.reshape(-1,MEMORY_CONSTANT* gridsize,1)\n",
    " \n",
    "Y_val_onehot =  tf.squeeze( tf.one_hot(tf.cast( y_sequence.reshape(-1,  gridsize,1), tf.int32), num_classes))\n",
    " \n",
    "x_train = x_sequence\n",
    "y_train_full= Y_val_onehot\n",
    "\n",
    " "
   ]
  },
  {
   "cell_type": "code",
   "execution_count": 82,
   "id": "827a1531",
   "metadata": {},
   "outputs": [
    {
     "name": "stdout",
     "output_type": "stream",
     "text": [
      "x_train shape: (768, 10, 2)\n",
      "y_train shape: (768, 10, 2)\n",
      "x_val shape: (128, 10, 2)\n",
      "y_val shape: (128, 10, 2)\n",
      "x_test shape: (128, 10, 2)\n",
      "y_test shape: (128, 10, 2)\n"
     ]
    }
   ],
   "source": [
    "split_ratio = 0.25\n",
    "x_train_reshaped=[]\n",
    "for data_point in x_train:\n",
    "    x_train_reshaped.append(np.transpose(data_point))\n",
    "x_train_reshaped=np.array(x_train_reshaped)  \n",
    " \n",
    "split_point_x = int(len(x_train_reshaped) * split_ratio)\n",
    "split_point_y = int(len(y_train_full) * split_ratio)\n",
    " \n",
    "x_test = x_train_reshaped[:split_point_x]\n",
    "y_test = y_train_full[:split_point_y]\n",
    "x_train = x_train_reshaped[split_point_x:]\n",
    "y_train = y_train_full[split_point_y:]\n",
    "split_ratio = 0.5\n",
    " \n",
    "split_point_x = int(len(x_test) * split_ratio)\n",
    "split_point_y = int(len(y_test) * split_ratio)\n",
    "\n",
    " \n",
    "x_val = x_test[:split_point_x]\n",
    "y_val = y_test[:split_point_x]\n",
    "x_test = x_test[split_point_x:]\n",
    "y_test = y_test[split_point_x:]\n",
    " \n",
    "print(\"x_train shape:\", x_train.shape)\n",
    "print(\"y_train shape:\", y_train.shape)\n",
    "print(\"x_val shape:\", x_val.shape)\n",
    "print(\"y_val shape:\", y_val.shape)\n",
    "print(\"x_test shape:\", x_test.shape)\n",
    "print(\"y_test shape:\", y_test.shape)"
   ]
  },
  {
   "cell_type": "code",
   "execution_count": 85,
   "id": "db37b243",
   "metadata": {},
   "outputs": [
    {
     "name": "stdout",
     "output_type": "stream",
     "text": [
      "Model: \"sequential_49\"\n",
      "_________________________________________________________________\n",
      " Layer (type)                Output Shape              Param #   \n",
      "=================================================================\n",
      " conv1d_89 (Conv1D)          (None, 10, 1, 1)          3         \n",
      "                                                                 \n",
      " reshape_5 (Reshape)         (None, 10, 1)             0         \n",
      "                                                                 \n",
      " dense_47 (Dense)            (None, 10, 2)             4         \n",
      "                                                                 \n",
      " wraparound1d_42 (Wraparound  (None, 12, 2)            0         \n",
      " 1D)                                                             \n",
      "                                                                 \n",
      " conv1d_90 (Conv1D)          (None, 10, 10)            70        \n",
      "                                                                 \n",
      " conv1d_91 (Conv1D)          (None, 10, 10)            110       \n",
      "                                                                 \n",
      " dense_48 (Dense)            (None, 10, 2)             22        \n",
      "                                                                 \n",
      "=================================================================\n",
      "Total params: 209\n",
      "Trainable params: 209\n",
      "Non-trainable params: 0\n",
      "_________________________________________________________________\n",
      "Epoch 1/5\n",
      "768/768 [==============================] - 4s 4ms/step - loss: 0.6511 - accuracy: 0.6376 - val_loss: 0.4324 - val_accuracy: 1.0000\n",
      "test size 128\n",
      "4/4 [==============================] - 0s 1ms/step - loss: 0.4381 - accuracy: 1.0000\n"
     ]
    },
    {
     "data": {
      "text/plain": [
       "[0.43814924359321594, 1.0]"
      ]
     },
     "execution_count": 85,
     "metadata": {},
     "output_type": "execute_result"
    }
   ],
   "source": [
    "num_filters=1\n",
    "kernel_size = MEMORY_CONSTANT\n",
    "model = tf.keras.Sequential()\n",
    "model.add(tf.keras.layers.InputLayer(input_shape=(gridsize,MEMORY_CONSTANT,1  )))  \n",
    "model.add(tf.keras.layers.Conv1D(filters=num_filters, kernel_size=kernel_size, padding='valid',\n",
    "                                 kernel_initializer=keras.initializers.ones(), \n",
    "                                         bias_initializer=tf.keras.initializers.he_normal(),trainable=True,use_bias=True,\n",
    "                                 activation=\"relu\"\n",
    "                                  ))\n",
    "\n",
    "#model.add(tf.keras.layers.SimpleRNN(units=1, return_sequences=True, activation='relu',\n",
    " #                              kernel_initializer=tf.keras.initializers.Ones()))\n",
    "    \n",
    "model.add(tf.keras.layers.Reshape((gridsize,1)))\n",
    "model.add(tf.keras.layers.Dense(units=2, activation=\"softmax\" ,\n",
    "                                kernel_initializer=tf.keras.initializers.Ones(), \n",
    "                                bias_initializer=tf.keras.initializers.he_normal()))\n",
    "model.add(Wraparound1D(padding=1))\n",
    "model.add(tf.keras.layers.Conv1D(gridsize, 3, activation='relu', padding='valid',  trainable=True) )\n",
    "\n",
    "model.add(tf.keras.layers.Conv1D(gridsize, 1, activation='relu', padding='same'))\n",
    " \n",
    "model.add(tf.keras.layers.Dense(units=2, activation=\"softmax\" ,\n",
    "                                kernel_initializer=tf.keras.initializers.Ones(), \n",
    "                                bias_initializer=tf.keras.initializers.he_normal()))\n",
    "\n",
    "model.compile(optimizer=tf.keras.optimizers.Adam(learning_rate=1e-3),\n",
    "              loss=loss, metrics=['accuracy'])\n",
    "model.summary()\n",
    "early_stopping_callback = CustomCallback()\n",
    "\n",
    "model.fit(x_train, y_train, \n",
    "          validation_data=(x_val, y_val)\n",
    "          ,epochs=5\n",
    "        , batch_size=1,callbacks=[early_stopping_callback]) \n",
    "print(f\"test size {x_test.shape[0]}\")\n",
    "model.evaluate(x_test,y_test)"
   ]
  },
  {
   "cell_type": "code",
   "execution_count": 105,
   "id": "74447837",
   "metadata": {},
   "outputs": [
    {
     "data": {
      "text/plain": [
       "8192"
      ]
     },
     "execution_count": 105,
     "metadata": {},
     "output_type": "execute_result"
    }
   ],
   "source": [
    "split_point_x\n",
    "\n",
    "split_point_x"
   ]
  },
  {
   "cell_type": "code",
   "execution_count": 96,
   "id": "264e775f",
   "metadata": {},
   "outputs": [
    {
     "data": {
      "text/plain": [
       "8192"
      ]
     },
     "execution_count": 96,
     "metadata": {},
     "output_type": "execute_result"
    }
   ],
   "source": [
    "Y_val_onehot.shape[0]//2//2"
   ]
  },
  {
   "cell_type": "code",
   "execution_count": null,
   "id": "5a813f47",
   "metadata": {},
   "outputs": [],
   "source": []
  },
  {
   "cell_type": "code",
   "execution_count": null,
   "id": "0fe2879e",
   "metadata": {},
   "outputs": [],
   "source": []
  }
 ],
 "metadata": {
  "kernelspec": {
   "display_name": "Python 3 (ipykernel)",
   "language": "python",
   "name": "python3"
  },
  "language_info": {
   "codemirror_mode": {
    "name": "ipython",
    "version": 3
   },
   "file_extension": ".py",
   "mimetype": "text/x-python",
   "name": "python",
   "nbconvert_exporter": "python",
   "pygments_lexer": "ipython3",
   "version": "3.10.9"
  }
 },
 "nbformat": 4,
 "nbformat_minor": 5
}
