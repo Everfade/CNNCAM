{
 "cells": [
  {
   "cell_type": "code",
   "execution_count": 47,
   "id": "49c1b862",
   "metadata": {},
   "outputs": [
    {
     "name": "stdout",
     "output_type": "stream",
     "text": [
      "The autoreload extension is already loaded. To reload it, use:\n",
      "  %reload_ext autoreload\n"
     ]
    }
   ],
   "source": [
    "from CaAttributes import CaNeighbourhoods, MemoryTypes, RuleTypes\n",
    "import itertools\n",
    "%load_ext autoreload\n",
    "%autoreload 2\n",
    "from CaMemory1D import CaMemory1D,Wraparound1D,periodic_padding,CustomCallback\n",
    "from AnticipatoryCA import AnticipatoryCA\n",
    "import tensorflow as tf\n",
    "import numpy as np\n",
    "import random\n",
    "import matplotlib.pyplot as plt\n",
    "import os\n",
    "from sklearn.model_selection import train_test_split\n",
    "\n",
    "def set_seed():\n",
    "    SEED =3\n",
    "    os.environ['PYTHONHASHSEED']=str(SEED)\n",
    "    os.environ['TF_CUDNN_DETERMINISTIC'] = '1'  # TF 2.1\n",
    "    random.seed(SEED)\n",
    "    np.random.seed(SEED)\n",
    "    tf.random.set_seed(SEED)\n",
    "    tf.config.threading.set_inter_op_parallelism_threads(1)\n",
    "num_filters=1\n",
    "num_classes = 2\n",
    "gridsize=10\n",
    "loss = lambda x, y: tf.keras.losses.categorical_crossentropy(tf.reshape(x, shape=(-1, num_classes)),\n",
    "                                                            tf.reshape(y, shape=(-1, num_classes)) ,from_logits=True)\n",
    "x_values = [seq for seq in itertools.product(\"01\", repeat=gridsize)]\n",
    "x_values = [[int(bit) for bit in seq] for seq in x_values]\n",
    "def get_model():\n",
    "\n",
    "    model = tf.keras.Sequential()\n",
    "    model.add(tf.keras.layers.InputLayer(input_shape=(gridsize, MEMORY_CONSTANT, 1)))\n",
    "    model.add(tf.keras.layers.Conv1D(filters=num_filters, kernel_size=MEMORY_CONSTANT, padding='valid',\n",
    "                                 kernel_initializer=tf.keras.initializers.Ones(),\n",
    "                                 activation=\"relu\"))\n",
    "    model.add(tf.keras.layers.Reshape((gridsize, 1)))\n",
    "    model.add(tf.keras.layers.Dense(units=num_classes, activation=\"softmax\"))\n",
    "\n",
    "    model.add(Wraparound1D(padding=1))\n",
    "\n",
    "    model.add(tf.keras.layers.Conv1D(gridsize, 3, activation='relu', padding='valid', trainable=True))\n",
    "    model.add(tf.keras.layers.Conv1D(gridsize, 1, activation='relu', padding='same'))\n",
    "\n",
    "    model.add(tf.keras.layers.Dense(units=num_classes, activation=\"softmax\",\n",
    "                                bias_initializer=tf.keras.initializers.Zeros()))\n",
    "\n",
    "    model.compile(optimizer=tf.keras.optimizers.Adam(learning_rate=1e-3),\n",
    "              loss=tf.keras.losses.categorical_crossentropy, metrics=['accuracy'])\n",
    "    \n",
    "    return model\n",
    "def split_dataset(x,y):\n",
    "        split_ratio=0.25\n",
    "        split_point_x = int(len(x) * split_ratio)\n",
    "        split_point_y = int(len(y) * split_ratio)\n",
    "\n",
    "        x_test = x[:split_point_x]\n",
    "        y_test = y[:split_point_y]\n",
    "        x_train = x[split_point_x:]\n",
    "        y_train = y[split_point_y:]\n",
    "        split_ratio = 0.5\n",
    "\n",
    "        split_point_x = int(len(x_test) * split_ratio)\n",
    "        split_point_y = int(len(y_test) * split_ratio)\n",
    "\n",
    "\n",
    "        x_val = x_test[:split_point_x]\n",
    "        y_val = y_test[:split_point_x]\n",
    "        x_test = x_test[split_point_x:]\n",
    "        y_test = y_test[split_point_x:]\n",
    "        return  (x_train,y_train,x_val,y_val,x_test,y_test)\n",
    "RULE_NUMBER=30"
   ]
  },
  {
   "cell_type": "markdown",
   "id": "a49c783f",
   "metadata": {},
   "source": [
    "# Data Generation"
   ]
  },
  {
   "cell_type": "code",
   "execution_count": 48,
   "id": "f1641ed3",
   "metadata": {
    "scrolled": true
   },
   "outputs": [
    {
     "name": "stdout",
     "output_type": "stream",
     "text": [
      "Data generated\n"
     ]
    }
   ],
   "source": [
    "set_seed()\n",
    "\n",
    "MEMORY_CONSTANT=1\n",
    "num_classes = 2  \n",
    "sequence_length=MEMORY_CONSTANT*2\n",
    " \n",
    "ca = CaMemory1D(grid_size=gridsize , rule_type=RuleTypes.Default,\n",
    "                memory_type=MemoryTypes.Default, memory_horizon=MEMORY_CONSTANT)\n",
    "\n",
    "ca.set_rule_number(RULE_NUMBER)\n",
    "sequences= np.array(ca.generate_training_data_sequences(x_values,sequence_length=sequence_length))\n",
    "\n",
    "\n",
    " \n",
    "\n",
    "np.random.shuffle(sequences)\n",
    "x_sequence=sequences[:,MEMORY_CONSTANT:MEMORY_CONSTANT*2]\n",
    "y_sequence=sequences[:,MEMORY_CONSTANT*2]\n",
    "x_sequence.reshape(-1,MEMORY_CONSTANT* gridsize,1)\n",
    " \n",
    "Y_val_onehot =  tf.squeeze( tf.one_hot(tf.cast( y_sequence.reshape(-1,  gridsize,1), tf.int32), num_classes))\n",
    "x_train = x_sequence\n",
    "y_train_full= Y_val_onehot\n",
    "  \n",
    "\n",
    "                                             \n",
    "print(\"Data generated\") "
   ]
  },
  {
   "cell_type": "code",
   "execution_count": 49,
   "id": "dd4ff930",
   "metadata": {
    "scrolled": true
   },
   "outputs": [
    {
     "name": "stdout",
     "output_type": "stream",
     "text": [
      "(1024, 1, 10)\n",
      "x_train shape: (768, 10, 1)\n",
      "y_train shape: (768, 10, 2)\n",
      "x_val shape: (128, 10, 1)\n",
      "y_val shape: (128, 10, 2)\n",
      "x_test shape: (128, 10, 1)\n",
      "y_test shape: (128, 10, 2)\n"
     ]
    }
   ],
   "source": [
    "\n",
    "print(x_train.shape)\n",
    "x_train=x_train.reshape(-1,10,1)\n",
    "\n",
    "x_train,y_train,x_val,y_val,x_test,y_test=split_dataset(x_train,y_train_full)\n",
    "print(\"x_train shape:\", x_train.shape, \"y_train shape:\", y_train.shape, \"x_val shape:\", x_val.shape, \"y_val shape:\", y_val.shape,\n",
    "      \"x_test shape:\", x_test.shape, \"y_test shape:\", y_test.shape)\n"
   ]
  },
  {
   "cell_type": "code",
   "execution_count": 11,
   "id": "46b1476f",
   "metadata": {},
   "outputs": [
    {
     "data": {
      "text/plain": [
       "(768, 10, 1)"
      ]
     },
     "execution_count": 11,
     "metadata": {},
     "output_type": "execute_result"
    }
   ],
   "source": [
    "x_train.shape"
   ]
  },
  {
   "cell_type": "markdown",
   "id": "1bcdc3fc",
   "metadata": {},
   "source": [
    "# Training heuristics  \n",
    "\n",
    "## Removed layers\n",
    "\n"
   ]
  },
  {
   "cell_type": "code",
   "execution_count": 12,
   "id": "0bbdb15a",
   "metadata": {
    "scrolled": true
   },
   "outputs": [
    {
     "name": "stdout",
     "output_type": "stream",
     "text": [
      "Model: \"sequential_2\"\n",
      "_________________________________________________________________\n",
      " Layer (type)                Output Shape              Param #   \n",
      "=================================================================\n",
      " wraparound1d_1 (Wraparound1  (None, 12, 1)            0         \n",
      " D)                                                              \n",
      "                                                                 \n",
      " conv1d_2 (Conv1D)           (None, 10, 2)             8         \n",
      "                                                                 \n",
      " conv1d_3 (Conv1D)           (None, 10, 6)             18        \n",
      "                                                                 \n",
      " dense_1 (Dense)             (None, 10, 2)             14        \n",
      "                                                                 \n",
      "=================================================================\n",
      "Total params: 40\n",
      "Trainable params: 40\n",
      "Non-trainable params: 0\n",
      "_________________________________________________________________\n",
      "Epoch 1/3\n",
      "384/384 [==============================] - 2s 2ms/step - loss: 0.6964 - accuracy: 0.5591 - val_loss: 0.6814 - val_accuracy: 0.7492\n",
      "Epoch 2/3\n",
      "384/384 [==============================] - 1s 2ms/step - loss: 0.6702 - accuracy: 0.6979 - val_loss: 0.6551 - val_accuracy: 0.6242\n",
      "Epoch 3/3\n",
      "384/384 [==============================] - 1s 2ms/step - loss: 0.6208 - accuracy: 0.7109 - val_loss: 0.5830 - val_accuracy: 0.7492\n"
     ]
    },
    {
     "data": {
      "text/plain": [
       "<keras.callbacks.History at 0x185e515fc10>"
      ]
     },
     "execution_count": 12,
     "metadata": {},
     "output_type": "execute_result"
    }
   ],
   "source": [
    "memory_horizon=MEMORY_CONSTANT# is equal to 1\n",
    "heuristic = tf.keras.Sequential()\n",
    "heuristic.add(tf.keras.layers.InputLayer(input_shape=(memory_horizon * gridsize, 1)))  # Reshape input shape\n",
    "heuristic.add(Wraparound1D(padding=1))\n",
    "heuristic.add(tf.keras.layers.Conv1D(2, 3, activation='relu', padding='valid',  trainable=True) )\n",
    "\n",
    "heuristic.add(tf.keras.layers.Conv1D(6, 1, activation='relu', padding='same'))\n",
    " \n",
    "heuristic.add(tf.keras.layers.Dense(units=2, activation=\"softmax\" ,\n",
    "                                kernel_initializer=tf.keras.initializers.Ones(), \n",
    "                                bias_initializer=tf.keras.initializers.he_normal()))\n",
    "\n",
    "heuristic.compile(optimizer=tf.keras.optimizers.Adam(learning_rate=1e-3),loss=loss, metrics=['accuracy'])\n",
    "heuristic.summary()\n",
    "early_stopping_callback = CustomCallback()\n",
    "heuristic.fit(x_train, y_train, validation_data=(x_val,y_val), epochs=3\n",
    "        , batch_size=2,callbacks=[early_stopping_callback])\n",
    "\n"
   ]
  },
  {
   "cell_type": "markdown",
   "id": "3b0e23b8",
   "metadata": {},
   "source": [
    "# Accuracy too low  "
   ]
  },
  {
   "cell_type": "code",
   "execution_count": 13,
   "id": "50a961f1",
   "metadata": {},
   "outputs": [
    {
     "data": {
      "image/png": "[encoded data removed]",
      "text/plain": [
       "<Figure size 640x480 with 1 Axes>"
      ]
     },
     "metadata": {},
     "output_type": "display_data"
    },
    {
     "data": {
      "image/png": "[encoded data removed]",
      "text/plain": [
       "<Figure size 640x480 with 1 Axes>"
      ]
     },
     "metadata": {},
     "output_type": "display_data"
    },
    {
     "data": {
      "image/png": "[encoded data removed]",
      "text/plain": [
       "<Figure size 640x480 with 1 Axes>"
      ]
     },
     "metadata": {},
     "output_type": "display_data"
    }
   ],
   "source": [
    "ca = CaMemory1D(grid_size=gridsize , rule_type=RuleTypes.Default,\n",
    "                memory_type=MemoryTypes.Default, memory_horizon=1)\n",
    "cah = CaMemory1D(grid_size=gridsize , rule_type=RuleTypes.Default,\n",
    "                memory_type=MemoryTypes.Default, memory_horizon=1)\n",
    "init_state_nr=102\n",
    "steps=30\n",
    "#cah.set_state_reset(x_values[init_state_nr])\n",
    "#ca.set_state_reset(x_values[init_state_nr])\n",
    "\n",
    "ca.set_rule_number(RULE_NUMBER)\n",
    " \n",
    "cah.set_rule_number(RULE_NUMBER)\n",
    "ca.set_rule_number(RULE_NUMBER)\n",
    "\n",
    "ca.step_multiple(steps)\n",
    "cah.step_with_model(heuristic,(1,gridsize,1),steps)\n",
    "figure,img=ca.render_state()\n",
    "#figure.savefig(\"rule73_heur_ca.png\", dpi=300, bbox_inches='tight')\n",
    "figure,img=cah.render_state()\n",
    "#figure.savefig(\"rule73_heur.png\", dpi=300, bbox_inches='tight')\n",
    "###################\n",
    "aca=AnticipatoryCA(grid_size=gridsize,heuristic=heuristic , rule_type=RuleTypes.Default,\n",
    "                memory_type=MemoryTypes.Default, memory_horizon=1)\n",
    "aca.set_rule_number(RULE_NUMBER)\n",
    "\n",
    "#aca.set_state_reset(x_values[init_state_nr]) \n",
    "aca.weak_anticipation_step_multiple(steps)\n",
    "figure,img=aca.render_state()\n",
    "figure.savefig(\"rule73_heur_aca.png\", dpi=300, bbox_inches='tight')"
   ]
  },
  {
   "cell_type": "markdown",
   "id": "81aa49cc",
   "metadata": {},
   "source": [
    "# Quantized Model"
   ]
  },
  {
   "cell_type": "code",
   "execution_count": 14,
   "id": "1e8b90ab",
   "metadata": {
    "scrolled": true
   },
   "outputs": [
    {
     "name": "stdout",
     "output_type": "stream",
     "text": [
      "Model: \"sequential_3\"\n",
      "_________________________________________________________________\n",
      " Layer (type)                Output Shape              Param #   \n",
      "=================================================================\n",
      " conv1d_4 (Conv1D)           (None, 10, 1, 1)          2         \n",
      "                                                                 \n",
      " reshape (Reshape)           (None, 10, 1)             0         \n",
      "                                                                 \n",
      " dense_2 (Dense)             (None, 10, 2)             4         \n",
      "                                                                 \n",
      " wraparound1d_2 (Wraparound1  (None, 12, 2)            0         \n",
      " D)                                                              \n",
      "                                                                 \n",
      " conv1d_5 (Conv1D)           (None, 10, 10)            70        \n",
      "                                                                 \n",
      " conv1d_6 (Conv1D)           (None, 10, 10)            110       \n",
      "                                                                 \n",
      " dense_3 (Dense)             (None, 10, 2)             22        \n",
      "                                                                 \n",
      "=================================================================\n",
      "Total params: 208\n",
      "Trainable params: 208\n",
      "Non-trainable params: 0\n",
      "_________________________________________________________________\n",
      "Epoch 1/2\n",
      "384/384 [==============================] - 3s 5ms/step - loss: 0.6905 - accuracy: 0.5250 - val_loss: 0.6679 - val_accuracy: 0.7488\n",
      "Epoch 2/2\n",
      "384/384 [==============================] - 1s 3ms/step - loss: 0.4967 - accuracy: 0.8259 - val_loss: 0.3828 - val_accuracy: 1.0000\n"
     ]
    },
    {
     "data": {
      "text/plain": [
       "<keras.callbacks.History at 0x185e53cd390>"
      ]
     },
     "execution_count": 14,
     "metadata": {},
     "output_type": "execute_result"
    }
   ],
   "source": [
    "\n",
    "quantized_heuristic =get_model()\n",
    "\n",
    "quantized_heuristic.compile(optimizer=tf.keras.optimizers.Adam(learning_rate=1e-3),loss=loss, metrics=['accuracy'])\n",
    "quantized_heuristic.summary()\n",
    "early_stopping_callback = CustomCallback()\n",
    "x_train=x_train.reshape(-1,MEMORY_CONSTANT*gridsize,1)\n",
    "quantized_heuristic.fit(x_train, y_train, validation_data=(x_train, y_train), epochs=2\n",
    "        , batch_size=2,callbacks=[early_stopping_callback])\n",
    " \n"
   ]
  },
  {
   "cell_type": "markdown",
   "id": "4f4ee4e6",
   "metadata": {},
   "source": [
    "# Quantization drastically decreases accuracy"
   ]
  },
  {
   "cell_type": "code",
   "execution_count": 15,
   "id": "523275d1",
   "metadata": {},
   "outputs": [
    {
     "name": "stdout",
     "output_type": "stream",
     "text": [
      "24/24 [==============================] - 0s 1ms/step - loss: 0.6589 - accuracy: 0.6246\n",
      "[0.6588704586029053, 0.6246093511581421]\n",
      "[<tf.Variable 'conv1d_4/kernel:0' shape=(1, 1, 1) dtype=float32, numpy=array([[[2.]]], dtype=float32)>, <tf.Variable 'conv1d_4/bias:0' shape=(1,) dtype=float32, numpy=array([0.], dtype=float32)>, <tf.Variable 'dense_2/kernel:0' shape=(1, 2) dtype=float32, numpy=array([[ 0., -2.]], dtype=float32)>, <tf.Variable 'dense_2/bias:0' shape=(2,) dtype=float32, numpy=array([0., 0.], dtype=float32)>, <tf.Variable 'conv1d_5/kernel:0' shape=(3, 2, 10) dtype=float32, numpy=\n",
      "array([[[ 0., -1.,  0.,  0.,  1.,  0.,  0.,  0.,  0.,  0.],\n",
      "        [ 0.,  0.,  0.,  0., -1.,  0.,  0.,  0.,  0.,  0.]],\n",
      "\n",
      "       [[ 1.,  0.,  0.,  0.,  0.,  0.,  0.,  0.,  0.,  0.],\n",
      "        [ 0.,  0.,  1.,  0.,  0., -1.,  0.,  0.,  1.,  0.]],\n",
      "\n",
      "       [[ 1.,  0.,  0.,  0.,  0.,  0.,  0.,  0.,  0.,  0.],\n",
      "        [ 0., -1.,  1.,  0.,  0.,  0.,  0.,  0.,  0.,  0.]]],\n",
      "      dtype=float32)>, <tf.Variable 'conv1d_5/bias:0' shape=(10,) dtype=float32, numpy=array([0., 0., 0., 0., 0., 0., 0., 0., 0., 0.], dtype=float32)>, <tf.Variable 'conv1d_6/kernel:0' shape=(1, 10, 10) dtype=float32, numpy=\n",
      "array([[[ 0.,  0.,  0.,  1.,  0., -1.,  0.,  0.,  1.,  0.],\n",
      "        [ 0.,  1., -1., -1.,  0.,  0., -1., -1.,  1.,  0.],\n",
      "        [ 0.,  1.,  0., -1., -1.,  0.,  0.,  0.,  0.,  0.],\n",
      "        [ 0.,  1.,  0., -1.,  0.,  0.,  0.,  0.,  0.,  0.],\n",
      "        [ 0.,  0.,  0.,  0.,  1.,  0.,  0.,  0.,  1.,  0.],\n",
      "        [ 0., -1.,  1.,  1.,  0., -1.,  1.,  1.,  0., -1.],\n",
      "        [ 1.,  0.,  0.,  0.,  0.,  0.,  0.,  1.,  0.,  0.],\n",
      "        [ 0.,  0.,  0.,  0.,  0.,  0.,  0.,  1.,  0.,  0.],\n",
      "        [-1.,  0.,  1.,  0.,  0.,  1.,  0.,  0.,  0.,  0.],\n",
      "        [ 0.,  0.,  0.,  0.,  0.,  0.,  0.,  0.,  0.,  0.]]],\n",
      "      dtype=float32)>, <tf.Variable 'conv1d_6/bias:0' shape=(10,) dtype=float32, numpy=array([0., 0., 0., 0., 0., 0., 0., 0., 0., 0.], dtype=float32)>, <tf.Variable 'dense_3/kernel:0' shape=(10, 2) dtype=float32, numpy=\n",
      "array([[ 0.,  0.],\n",
      "       [-1.,  1.],\n",
      "       [ 0., -1.],\n",
      "       [ 1.,  0.],\n",
      "       [ 2., -1.],\n",
      "       [-2.,  1.],\n",
      "       [ 0., -1.],\n",
      "       [ 0., -1.],\n",
      "       [ 0.,  0.],\n",
      "       [-1.,  0.]], dtype=float32)>, <tf.Variable 'dense_3/bias:0' shape=(2,) dtype=float32, numpy=array([0., 0.], dtype=float32)>]\n"
     ]
    }
   ],
   "source": [
    "def round_and_convert_to_int(x):\n",
    "    return np.round(x).astype(np.int32)\n",
    "for indx,layer in enumerate(quantized_heuristic.layers):\n",
    "    if isinstance(layer, tf.keras.layers.Conv1D) or isinstance(layer, tf.keras.layers.Dense):\n",
    "        weights, biases = layer.get_weights()\n",
    "        layer.set_weights([round_and_convert_to_int(weights), round_and_convert_to_int(biases)])\n",
    "        quantized_heuristic.layers[indx]=layer\n",
    "         \n",
    "print(quantized_heuristic.evaluate(x_train,y_train))\n",
    "print(quantized_heuristic.weights)"
   ]
  },
  {
   "cell_type": "markdown",
   "id": "ff3bf8a9",
   "metadata": {},
   "source": [
    "# Pruned Heuristic seems to have no effect"
   ]
  },
  {
   "cell_type": "code",
   "execution_count": 20,
   "id": "5a38ec3d",
   "metadata": {
    "scrolled": true
   },
   "outputs": [
    {
     "name": "stdout",
     "output_type": "stream",
     "text": [
      "Model: \"sequential_6\"\n",
      "_________________________________________________________________\n",
      " Layer (type)                Output Shape              Param #   \n",
      "=================================================================\n",
      " wraparound1d_4 (Wraparound1  (None, 12, 1)            0         \n",
      " D)                                                              \n",
      "                                                                 \n",
      " conv1d_10 (Conv1D)          (None, 10, 10)            40        \n",
      "                                                                 \n",
      " conv1d_11 (Conv1D)          (None, 10, 10)            110       \n",
      "                                                                 \n",
      " dense_6 (Dense)             (None, 10, 2)             22        \n",
      "                                                                 \n",
      "=================================================================\n",
      "Total params: 172\n",
      "Trainable params: 172\n",
      "Non-trainable params: 0\n",
      "_________________________________________________________________\n",
      "384/384 [==============================] - 1s 2ms/step - loss: 0.5724 - accuracy: 0.7479 - val_loss: 0.4566 - val_accuracy: 0.8750\n",
      "Model: \"sequential_8\"\n",
      "_________________________________________________________________\n",
      " Layer (type)                Output Shape              Param #   \n",
      "=================================================================\n",
      " wraparound1d_4 (Wraparound1  (None, 12, 1)            0         \n",
      " D)                                                              \n",
      "                                                                 \n",
      " prune_low_magnitude_conv1d_  (None, 10, 10)           72        \n",
      " 10 (PruneLowMagnitude)                                          \n",
      "                                                                 \n",
      " prune_low_magnitude_conv1d_  (None, 10, 10)           212       \n",
      " 11 (PruneLowMagnitude)                                          \n",
      "                                                                 \n",
      " prune_low_magnitude_dense_6  (None, 10, 2)            44        \n",
      "  (PruneLowMagnitude)                                            \n",
      "                                                                 \n",
      "=================================================================\n",
      "Total params: 328\n",
      "Trainable params: 172\n",
      "Non-trainable params: 156\n",
      "_________________________________________________________________\n"
     ]
    }
   ],
   "source": [
    "\n",
    "import tensorflow_model_optimization as tfmot\n",
    "\n",
    "pruned_heuristic = tf.keras.Sequential()\n",
    "pruned_heuristic.add(tf.keras.layers.InputLayer(input_shape=(memory_horizon * gridsize, 1)))  # Reshape input shape\n",
    "pruned_heuristic.add(Wraparound1D(padding=1))\n",
    "pruned_heuristic.add(tf.keras.layers.Conv1D(10, 3, activation='relu', padding='valid',  trainable=True) )\n",
    "\n",
    "pruned_heuristic.add(tf.keras.layers.Conv1D(10, 1, activation='relu', padding='same'))\n",
    " \n",
    "pruned_heuristic.add(tf.keras.layers.Dense(units=2, activation=\"softmax\" ,\n",
    "                                kernel_initializer=tf.keras.initializers.Ones(), \n",
    "                                bias_initializer=tf.keras.initializers.he_normal()))\n",
    "\n",
    "pruned_heuristic.compile(optimizer=tf.keras.optimizers.Adam(learning_rate=1e-3),loss=loss, metrics=['accuracy'])\n",
    "pruned_heuristic.summary()\n",
    "pruned_model=pruned_heuristic\n",
    "begin_step = 0\n",
    "end_step = 5000  \n",
    "\n",
    "\n",
    "pruning_params = {\n",
    "      'pruning_schedule': tfmot.sparsity.keras.PolynomialDecay(initial_sparsity=0.00,\n",
    "                                                               final_sparsity=0.87,\n",
    "                                                               begin_step=0,\n",
    "                                                               end_step=end_step)\n",
    "}\n",
    " \n",
    "#wraparound layer removed because its a custom layer\n",
    "first_layers = pruned_model.layers[:1]\n",
    "original_model = tf.keras.Sequential(pruned_model.layers[1:])\n",
    "\n",
    "\n",
    "original_model_pruned = tfmot.sparsity.keras.prune_low_magnitude(original_model, **pruning_params)\n",
    "\n",
    " \n",
    "pruned_heuristic_final = tf.keras.Sequential()\n",
    "for layer in first_layers:\n",
    "    pruned_heuristic_final.add(layer)\n",
    "    \n",
    "for layer in original_model_pruned.layers:\n",
    "    pruned_heuristic_final.add(layer)\n",
    "    \n",
    "pruning_callback = tfmot.sparsity.keras.UpdatePruningStep()\n",
    "pruned_heuristic_final.compile(optimizer='adam',loss=loss,metrics=['accuracy'] )\n",
    "\n",
    "pruned_heuristic_final.build(input_shape=(None,gridsize,1))\n",
    "pruned_heuristic.fit(x_train , y_train , validation_data=(x_val, y_val), epochs=1\n",
    "        , batch_size=2,callbacks=[early_stopping_callback,pruning_callback])\n",
    "pruned_heuristic_final.summary()\n"
   ]
  },
  {
   "cell_type": "markdown",
   "id": "35f80d9e",
   "metadata": {},
   "source": [
    "# Adding gaussian noise to weights can result in better heuristics"
   ]
  },
  {
   "cell_type": "code",
   "execution_count": 21,
   "id": "e8790799",
   "metadata": {},
   "outputs": [
    {
     "name": "stdout",
     "output_type": "stream",
     "text": [
      "Model: \"sequential_9\"\n",
      "_________________________________________________________________\n",
      " Layer (type)                Output Shape              Param #   \n",
      "=================================================================\n",
      " conv1d_12 (Conv1D)          (None, 10, 1, 1)          2         \n",
      "                                                                 \n",
      " reshape_2 (Reshape)         (None, 10, 1)             0         \n",
      "                                                                 \n",
      " dense_7 (Dense)             (None, 10, 2)             4         \n",
      "                                                                 \n",
      " wraparound1d_5 (Wraparound1  (None, 12, 2)            0         \n",
      " D)                                                              \n",
      "                                                                 \n",
      " conv1d_13 (Conv1D)          (None, 10, 10)            70        \n",
      "                                                                 \n",
      " conv1d_14 (Conv1D)          (None, 10, 10)            110       \n",
      "                                                                 \n",
      " dense_8 (Dense)             (None, 10, 2)             22        \n",
      "                                                                 \n",
      "=================================================================\n",
      "Total params: 208\n",
      "Trainable params: 208\n",
      "Non-trainable params: 0\n",
      "_________________________________________________________________\n",
      "Epoch 1/2\n",
      "768/768 [==============================] - 3s 3ms/step - loss: 0.5604 - accuracy: 0.7607 - val_loss: 0.4018 - val_accuracy: 0.8755\n",
      "Epoch 2/2\n",
      "768/768 [==============================] - 2s 3ms/step - loss: 0.3500 - accuracy: 0.9824 - val_loss: 0.3253 - val_accuracy: 1.0000\n"
     ]
    },
    {
     "data": {
      "text/plain": [
       "<keras.callbacks.History at 0x185f8d93a60>"
      ]
     },
     "execution_count": 21,
     "metadata": {},
     "output_type": "execute_result"
    }
   ],
   "source": [
    "memory_horizon=MEMORY_CONSTANT\n",
    "heuristic = get_model()\n",
    "\n",
    "heuristic.compile(optimizer=tf.keras.optimizers.Adam(learning_rate=1e-3),loss=loss, metrics=['accuracy'])\n",
    "heuristic.summary()\n",
    "early_stopping_callback = CustomCallback()\n",
    "x_train=x_train.reshape(-1,MEMORY_CONSTANT*gridsize,1)\n",
    "heuristic.fit(x_train, y_train, validation_data=(x_train, y_train), epochs=2\n",
    "        , batch_size=1,callbacks=[early_stopping_callback])\n",
    " "
   ]
  },
  {
   "cell_type": "code",
   "execution_count": 23,
   "id": "16062527",
   "metadata": {},
   "outputs": [
    {
     "name": "stdout",
     "output_type": "stream",
     "text": [
      "24/24 [==============================] - 0s 1ms/step - loss: 0.5324 - accuracy: 0.6233\n",
      "4/4 [==============================] - 0s 2ms/step - loss: 0.5661 - accuracy: 0.6375\n",
      "4/4 [==============================] - 0s 1ms/step - loss: 0.5558 - accuracy: 0.6375\n",
      "4/4 [==============================] - 0s 1ms/step - loss: 0.5603 - accuracy: 0.6375\n",
      "4/4 [==============================] - 0s 2ms/step - loss: 0.5013 - accuracy: 0.7594\n",
      "4/4 [==============================] - 0s 2ms/step - loss: 0.5403 - accuracy: 0.7594\n",
      "4/4 [==============================] - 0s 2ms/step - loss: 0.5437 - accuracy: 0.7594\n",
      "4/4 [==============================] - 0s 1ms/step - loss: 0.5358 - accuracy: 0.7594\n",
      "4/4 [==============================] - 0s 1ms/step - loss: 0.5045 - accuracy: 0.7594\n",
      "4/4 [==============================] - 0s 2ms/step - loss: 0.5150 - accuracy: 0.7594\n",
      "4/4 [==============================] - 0s 1ms/step - loss: 0.5235 - accuracy: 0.7594\n",
      "4/4 [==============================] - 0s 2ms/step - loss: 0.5298 - accuracy: 0.7594\n",
      "4/4 [==============================] - 0s 2ms/step - loss: 0.5435 - accuracy: 0.7594\n",
      "4/4 [==============================] - 0s 2ms/step - loss: 0.5928 - accuracy: 0.6375\n",
      "4/4 [==============================] - 0s 2ms/step - loss: 0.5421 - accuracy: 0.7594\n",
      "4/4 [==============================] - 0s 2ms/step - loss: 0.5282 - accuracy: 0.7594\n",
      "4/4 [==============================] - 0s 2ms/step - loss: 0.5198 - accuracy: 0.7594\n",
      "4/4 [==============================] - 0s 2ms/step - loss: 0.5899 - accuracy: 0.6375\n",
      "4/4 [==============================] - 0s 2ms/step - loss: 0.5214 - accuracy: 0.7594\n",
      "4/4 [==============================] - 0s 1ms/step - loss: 0.5679 - accuracy: 0.7594\n",
      "4/4 [==============================] - 0s 1ms/step - loss: 0.5328 - accuracy: 0.7594\n",
      "4/4 [==============================] - 0s 2ms/step - loss: 0.4769 - accuracy: 0.8781\n",
      "0.878125011920929\n"
     ]
    }
   ],
   "source": [
    "noise_model=heuristic\n",
    "\n",
    "conv_layer = noise_model.layers[-2]#[layer for layer in noise_model.layers if isinstance(layer, tf.keras.layers.Conv1D)]\n",
    "acc=noise_model.evaluate(x_train,y_train)[1]\n",
    "while(acc ==1 or acc <0.87):\n",
    "  \n",
    "    weights, biases = conv_layer.get_weights()\n",
    "    noise = np.random.normal(0, 0.1, weights.shape)  \n",
    "    weights_with_noise = weights + noise\n",
    "    conv_layer.set_weights([weights_with_noise, biases])\n",
    "    acc=noise_model.evaluate(x_test,y_test)[1]\n",
    "        \n",
    "\n",
    "print(acc)"
   ]
  },
  {
   "cell_type": "code",
   "execution_count": 24,
   "id": "e2af9150",
   "metadata": {},
   "outputs": [
    {
     "data": {
      "image/png": "[encoded data removed]",
      "text/plain": [
       "<Figure size 640x480 with 1 Axes>"
      ]
     },
     "metadata": {},
     "output_type": "display_data"
    },
    {
     "data": {
      "image/png": "[encoded data removed]",
      "text/plain": [
       "<Figure size 640x480 with 1 Axes>"
      ]
     },
     "metadata": {},
     "output_type": "display_data"
    },
    {
     "data": {
      "image/png": "[encoded data removed]",
      "text/plain": [
       "<Figure size 640x480 with 1 Axes>"
      ]
     },
     "metadata": {},
     "output_type": "display_data"
    }
   ],
   "source": [
    "ca = CaMemory1D(grid_size=gridsize , rule_type=RuleTypes.Default,\n",
    "                memory_type=MemoryTypes.Most_Frequent, memory_horizon=4)\n",
    "cah = CaMemory1D(grid_size=gridsize , rule_type=RuleTypes.Default,\n",
    "                memory_type=MemoryTypes.Default, memory_horizon=1)\n",
    "init_state_nr=102\n",
    "steps=30\n",
    "cah.set_state_reset(x_values[init_state_nr])\n",
    "ca.set_state_reset(x_values[init_state_nr])\n",
    "ca.set_rule_number(RULE_NUMBER)\n",
    " \n",
    "cah.set_rule_number(RULE_NUMBER)\n",
    "ca.set_rule_number(RULE_NUMBER)\n",
    "\n",
    "ca.step_multiple(steps)\n",
    "cah.step_with_model(noise_model,(1,gridsize,1),steps)\n",
    "figure,img=ca.render_state()\n",
    "figure.savefig(\"rule110_goodheur_ca.png\", dpi=300, bbox_inches='tight')\n",
    "figure,img=cah.render_state()\n",
    "figure.savefig(\"rule110_goodheur.png\", dpi=300, bbox_inches='tight')\n",
    "###################\n",
    "aca=AnticipatoryCA(grid_size=gridsize,heuristic=noise_model , rule_type=RuleTypes.Default,\n",
    "                memory_type=MemoryTypes.Default, memory_horizon=1)\n",
    "aca.set_rule_number(RULE_NUMBER)\n",
    "aca.set_state_reset(x_values[init_state_nr]) \n",
    "aca.weak_anticipation_step_multiple(steps)\n",
    "figure,img=aca.render_state()\n",
    "\n",
    "\n",
    "figure.savefig(\"rule110_goodheur_aca.png\", dpi=300, bbox_inches='tight')"
   ]
  },
  {
   "cell_type": "code",
   "execution_count": 25,
   "id": "1dd1ab8e",
   "metadata": {},
   "outputs": [
    {
     "name": "stdout",
     "output_type": "stream",
     "text": [
      "Data generated\n"
     ]
    }
   ],
   "source": [
    "MEMORY_CONSTANT=2\n",
    " \n",
    "sequence_length=MEMORY_CONSTANT*2\n",
    "sequences= np.array(aca.generate_training_data_sequences(x_values,sequence_length=sequence_length))\n",
    "\n",
    "print(\"Data generated\") \n",
    " \n",
    "n = gridsize\n",
    "np.random.shuffle(sequences)\n",
    "x_sequence=sequences[:,MEMORY_CONSTANT:MEMORY_CONSTANT*2]\n",
    "y_sequence=sequences[:,MEMORY_CONSTANT*2]\n",
    "x_sequence.reshape(-1,MEMORY_CONSTANT* gridsize,1)\n",
    " \n",
    "Y_val_onehot =  tf.squeeze( tf.one_hot(tf.cast( y_sequence.reshape(-1,  gridsize,1), tf.int32), num_classes))\n",
    " \n",
    "x_train = x_sequence\n",
    "y_train_full= Y_val_onehot\n",
    "\n",
    " "
   ]
  },
  {
   "cell_type": "code",
   "execution_count": 26,
   "id": "827a1531",
   "metadata": {},
   "outputs": [],
   "source": [
    "split_ratio = 0.25\n",
    "x_train_reshaped=[]\n",
    "for data_point in x_train:\n",
    "    x_train_reshaped.append(np.transpose(data_point))\n",
    "x_train_reshaped=np.array(x_train_reshaped)  \n",
    "\n",
    "x_train,y_train,x_val,y_val,x_test,y_test=split_dataset(x_train_reshaped,y_train_full)"
   ]
  },
  {
   "cell_type": "markdown",
   "id": "50ada72e",
   "metadata": {},
   "source": [
    "# with conv"
   ]
  },
  {
   "cell_type": "code",
   "execution_count": 28,
   "id": "db37b243",
   "metadata": {},
   "outputs": [
    {
     "name": "stdout",
     "output_type": "stream",
     "text": [
      "Model: \"sequential_11\"\n",
      "_________________________________________________________________\n",
      " Layer (type)                Output Shape              Param #   \n",
      "=================================================================\n",
      " conv1d_15 (Conv1D)          (None, 10, 1, 1)          3         \n",
      "                                                                 \n",
      " reshape_3 (Reshape)         (None, 10, 1)             0         \n",
      "                                                                 \n",
      " dense_9 (Dense)             (None, 10, 2)             4         \n",
      "                                                                 \n",
      " wraparound1d_6 (Wraparound1  (None, 12, 2)            0         \n",
      " D)                                                              \n",
      "                                                                 \n",
      " conv1d_16 (Conv1D)          (None, 10, 10)            70        \n",
      "                                                                 \n",
      " conv1d_17 (Conv1D)          (None, 10, 10)            110       \n",
      "                                                                 \n",
      " dense_10 (Dense)            (None, 10, 2)             22        \n",
      "                                                                 \n",
      "=================================================================\n",
      "Total params: 209\n",
      "Trainable params: 209\n",
      "Non-trainable params: 0\n",
      "_________________________________________________________________\n",
      "Epoch 1/5\n",
      "768/768 [==============================] - 3s 3ms/step - loss: 0.6940 - accuracy: 0.5020 - val_loss: 0.6918 - val_accuracy: 0.4922\n",
      "Epoch 2/5\n",
      "768/768 [==============================] - 2s 2ms/step - loss: 0.6217 - accuracy: 0.7069 - val_loss: 0.5160 - val_accuracy: 0.8797\n",
      "Epoch 3/5\n",
      "768/768 [==============================] - 2s 2ms/step - loss: 0.4799 - accuracy: 0.8724 - val_loss: 0.4501 - val_accuracy: 0.8797\n",
      "Epoch 4/5\n",
      "768/768 [==============================] - 2s 2ms/step - loss: 0.3747 - accuracy: 0.9768 - val_loss: 0.3413 - val_accuracy: 1.0000\n",
      "test size 128\n",
      "4/4 [==============================] - 0s 2ms/step - loss: 0.3419 - accuracy: 1.0000\n"
     ]
    },
    {
     "data": {
      "text/plain": [
       "[0.34189802408218384, 1.0]"
      ]
     },
     "execution_count": 28,
     "metadata": {},
     "output_type": "execute_result"
    }
   ],
   "source": [
    "num_filters=1\n",
    "kernel_size = MEMORY_CONSTANT\n",
    "model = tf.keras.Sequential()\n",
    "model.add(tf.keras.layers.InputLayer(input_shape=(gridsize,MEMORY_CONSTANT,1  )))  \n",
    "model.add(tf.keras.layers.Conv1D(filters=num_filters, kernel_size=kernel_size, padding='valid',\n",
    "                                 kernel_initializer=tf.keras.initializers.ones(), \n",
    "                                         bias_initializer=tf.keras.initializers.he_normal(),trainable=True,use_bias=True,\n",
    "                                 activation=\"relu\"\n",
    "                                  ))\n",
    "\n",
    " \n",
    "model.add(tf.keras.layers.Reshape((gridsize,1)))\n",
    "model.add(tf.keras.layers.Dense(units=2, activation=\"softmax\" ,\n",
    "                                kernel_initializer=tf.keras.initializers.Ones(), \n",
    "                                bias_initializer=tf.keras.initializers.he_normal()))\n",
    "model.add(Wraparound1D(padding=1))\n",
    "model.add(tf.keras.layers.Conv1D(gridsize, 3, activation='relu', padding='valid',  trainable=True) )\n",
    "\n",
    "model.add(tf.keras.layers.Conv1D(gridsize, 1, activation='relu', padding='same'))\n",
    " \n",
    "model.add(tf.keras.layers.Dense(units=2, activation=\"softmax\" ,\n",
    "                                kernel_initializer=tf.keras.initializers.Ones(), \n",
    "                                bias_initializer=tf.keras.initializers.he_normal()))\n",
    "\n",
    "model.compile(optimizer=tf.keras.optimizers.Adam(learning_rate=1e-3),\n",
    "              loss=loss, metrics=['accuracy'])\n",
    "model.summary()\n",
    "early_stopping_callback = CustomCallback()\n",
    "\n",
    "model.fit(x_train, y_train, \n",
    "          validation_data=(x_val, y_val)\n",
    "          ,epochs=5\n",
    "        , batch_size=1,callbacks=[early_stopping_callback]) \n",
    "print(f\"test size {x_test.shape[0]}\")\n",
    "model.evaluate(x_test,y_test)"
   ]
  },
  {
   "cell_type": "markdown",
   "id": "92639f57",
   "metadata": {},
   "source": [
    "# with recc"
   ]
  },
  {
   "cell_type": "code",
   "execution_count": 50,
   "id": "893f4627",
   "metadata": {},
   "outputs": [
    {
     "name": "stdout",
     "output_type": "stream",
     "text": [
      "x_train shape: (768, 10, 1) y_train shape: (768, 10, 2) x_val shape: (128, 10, 1) y_val shape: (128, 10, 2) x_test shape: (128, 10, 1) y_test shape: (128, 10, 2)\n",
      "Model: \"sequential_23\"\n",
      "_________________________________________________________________\n",
      " Layer (type)                Output Shape              Param #   \n",
      "=================================================================\n",
      " simple_rnn_11 (SimpleRNN)   (None, 10, 1)             3         \n",
      "                                                                 \n",
      " reshape_12 (Reshape)        (None, 10, 1)             0         \n",
      "                                                                 \n",
      " dense_19 (Dense)            (None, 10, 2)             4         \n",
      "                                                                 \n",
      " wraparound1d_11 (Wraparound  (None, 12, 2)            0         \n",
      " 1D)                                                             \n",
      "                                                                 \n",
      " conv1d_26 (Conv1D)          (None, 10, 10)            70        \n",
      "                                                                 \n",
      " conv1d_27 (Conv1D)          (None, 10, 10)            110       \n",
      "                                                                 \n",
      " dense_20 (Dense)            (None, 10, 2)             22        \n",
      "                                                                 \n",
      "=================================================================\n",
      "Total params: 209\n",
      "Trainable params: 209\n",
      "Non-trainable params: 0\n",
      "_________________________________________________________________\n",
      "Epoch 1/5\n",
      "768/768 [==============================] - 4s 4ms/step - loss: 0.6826 - accuracy: 0.5613 - val_loss: 0.6716 - val_accuracy: 0.5719\n",
      "Epoch 2/5\n",
      "768/768 [==============================] - 3s 3ms/step - loss: 0.5995 - accuracy: 0.7255 - val_loss: 0.4355 - val_accuracy: 0.9867\n",
      "Epoch 3/5\n",
      "768/768 [==============================] - 3s 3ms/step - loss: 0.3641 - accuracy: 0.9993 - val_loss: 0.3382 - val_accuracy: 1.0000\n",
      "test size 128\n",
      "4/4 [==============================] - 0s 2ms/step - loss: 0.3379 - accuracy: 1.0000\n"
     ]
    },
    {
     "data": {
      "text/plain": [
       "[0.3378736972808838, 1.0]"
      ]
     },
     "execution_count": 50,
     "metadata": {},
     "output_type": "execute_result"
    }
   ],
   "source": [
    "num_filters=1\n",
    "print(\"x_train shape:\", x_train.shape, \"y_train shape:\", y_train.shape, \"x_val shape:\", x_val.shape, \"y_val shape:\", y_val.shape, \"x_test shape:\", x_test.shape, \"y_test shape:\", y_test.shape)\n",
    "kernel_size = MEMORY_CONSTANT\n",
    "model = tf.keras.Sequential()\n",
    "\n",
    "shape=(-1,gridsize*MEMORY_CONSTANT)\n",
    "model.add(tf.keras.layers.InputLayer(input_shape=(gridsize*MEMORY_CONSTANT,1   )))  \n",
    "\n",
    "model.add(tf.keras.layers.SimpleRNN(units=1, return_sequences=True, activation='relu',\n",
    "                               kernel_initializer=tf.keras.initializers.Ones()))\n",
    "\n",
    "model.add(tf.keras.layers.Reshape((gridsize,1)))\n",
    "model.add(tf.keras.layers.Dense(units=2, activation=\"relu\" ,\n",
    "                                kernel_initializer=tf.keras.initializers.Ones(), \n",
    "                                bias_initializer=tf.keras.initializers.he_normal()))\n",
    "model.add(Wraparound1D(padding=1))\n",
    "model.add(tf.keras.layers.Conv1D(gridsize, 3, activation='relu', padding='valid',  trainable=True) )\n",
    "\n",
    "model.add(tf.keras.layers.Conv1D(gridsize, 1, activation='relu', padding='same'))\n",
    " \n",
    "model.add(tf.keras.layers.Dense(units=2, activation=\"softmax\" ,\n",
    "                                kernel_initializer=tf.keras.initializers.Ones(), \n",
    "                                bias_initializer=tf.keras.initializers.he_normal()))\n",
    "\n",
    "model.compile(optimizer=tf.keras.optimizers.Adam(learning_rate=1e-3),\n",
    "              loss=loss, metrics=['accuracy'])\n",
    "model.summary()\n",
    "\n",
    "early_stopping_callback = CustomCallback()\n",
    "\n",
    "model.fit(x_train.reshape(shape ), y_train, \n",
    "          validation_data=(x_val.reshape(shape), y_val)\n",
    "          ,epochs=5\n",
    "        , batch_size=1,callbacks=[early_stopping_callback]) \n",
    "print(f\"test size {x_test.shape[0]}\")\n",
    "model.evaluate(x_test.reshape(shape ),y_test)\n",
    "\n",
    "#print((x_train.reshape(shape )[0]))\n",
    "#model.predict(x_train.reshape(shape )[0])"
   ]
  },
  {
   "cell_type": "markdown",
   "id": "8288d21d",
   "metadata": {},
   "source": [
    "## Learning many\n"
   ]
  },
  {
   "cell_type": "code",
   "execution_count": null,
   "id": "0fe2879e",
   "metadata": {},
   "outputs": [],
   "source": [
    "set_seed()\n",
    "\n",
    "MEMORY_CONSTANT=1\n",
    "kernel_size=MEMORY_CONSTANT\n",
    "sequence_length=MEMORY_CONSTANT*2\n",
    "ca = CaMemory1D(grid_size=gridsize , rule_type=RuleTypes.Default,\n",
    "                memory_type=MemoryTypes.Most_Frequent, memory_horizon=MEMORY_CONSTANT)\n",
    "\n",
    "\n",
    "np.random.shuffle(x_values)\n",
    "y_sequence= []\n",
    "x_sequence=sequences[:,MEMORY_CONSTANT:MEMORY_CONSTANT*2]\n",
    "\n",
    "tries=0\n",
    "while i< 256:\n",
    "    print(i)\n",
    "    \n",
    "    ca = CaMemory1D(grid_size=gridsize , rule_type=RuleTypes.Default,\n",
    "                memory_type=MemoryTypes.Most_Frequent, memory_horizon=MEMORY_CONSTANT)\n",
    "    ca.set_rule_number(i)\n",
    "    sequences= np.array(ca.generate_training_data_sequences(x_values,sequence_length=sequence_length))\n",
    "    np.random.shuffle(sequences)\n",
    "\n",
    "    x_sequence=sequences[:,MEMORY_CONSTANT:MEMORY_CONSTANT*2]\n",
    "    y_sequence=sequences[:,MEMORY_CONSTANT*2]\n",
    "    x_sequence.reshape(-1,MEMORY_CONSTANT* gridsize,1)\n",
    "\n",
    "    Y_val_onehot =  tf.squeeze( tf.one_hot(tf.cast( y_sequence.reshape(-1,  gridsize,1), tf.int32), num_classes))\n",
    "    x_train = x_sequence   \n",
    "    y_train= Y_val_onehot\n",
    "    loss = lambda x, y: tf.keras.losses.categorical_crossentropy(tf.reshape(x, shape=(-1, num_classes)),                                                         tf.reshape(y, shape=(-1, num_classes)) ,from_logits=True)\n",
    "    y_train_full= Y_val_onehot\n",
    "\n",
    "    x_train_reshaped=[]\n",
    "    for data_point in x_train:\n",
    "        x_train_reshaped.append(np.transpose(data_point))\n",
    "    x_train_reshaped=np.array(x_train_reshaped)  \n",
    "\n",
    "    x_train,y_train,x_val,y_val,x_test,y_test=split_dataset(x_train_reshaped,y_train_full)\n",
    "    memory_horizon=MEMORY_CONSTANT# is equal to 1\n",
    "    model =get_model()\n",
    " \n",
    "    early_stopping_callback = CustomCallback()\n",
    "\n",
    "    history=model.fit(x_train, y_train, validation_data=(x_val, y_val), epochs=10\n",
    "            , batch_size=1,callbacks=[early_stopping_callback], verbose=True) \n",
    "    \n",
    "    noise_model=model\n",
    "    conv_layer = noise_model.layers[-2]\n",
    "    acc=noise_model.evaluate(x_train,y_train)[1]\n",
    "    while(acc ==1 or acc <0.90):\n",
    "\n",
    "        weights, biases = conv_layer.get_weights()\n",
    "        noise = np.random.normal(0, 0.1, weights.shape)  \n",
    "        weights_with_noise = weights + noise\n",
    "        conv_layer.set_weights([weights_with_noise, biases])\n",
    "        acc=noise_model.evaluate(x_test,y_test)[1]\n",
    "        \n",
    "\n",
    "print(acc)\n",
    "    eval=model.evaluate(x_test,y_test,verbose=False)\n",
    "\n",
    "    if(eval[1] <1 and max(history.history[\"val_accuracy\"])<1 and max(history.history[\"accuracy\"])<1):\n",
    "        print(eval[1])\n",
    "        tries=tries+1\n",
    "        i=i-1\n",
    "        \n",
    "   \n",
    "    else:\n",
    "        histories.append(history)\n",
    "        print(i)\n",
    "        tries=0\n",
    "    if tries >5:\n",
    "        tries=0\n",
    "        failed.append(i)\n",
    "        i=i+1\n",
    "        print(\"skipped\")\n",
    "    i=i+1\n"
   ]
  }
 ],
 "metadata": {
  "kernelspec": {
   "display_name": "Python 3 (ipykernel)",
   "language": "python",
   "name": "python3"
  },
  "language_info": {
   "codemirror_mode": {
    "name": "ipython",
    "version": 3
   },
   "file_extension": ".py",
   "mimetype": "text/x-python",
   "name": "python",
   "nbconvert_exporter": "python",
   "pygments_lexer": "ipython3",
   "version": "3.10.9"
  }
 },
 "nbformat": 4,
 "nbformat_minor": 5
}
