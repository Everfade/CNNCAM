{
 "cells": [
  {
   "cell_type": "markdown",
   "id": "d0d5c04c",
   "metadata": {},
   "source": [
    "Hidden channels don’t have a predefined meaning, and it’s up to the update rule to decide what to use them for. They can be interpreted as concentrations of some chemicals, electric potentials or some other signaling mechanism that are used by cells to orchestrate the growth. In terms of our biological analogy - all our cells share the same genome.\n",
    "\n",
    "(Maybe they can somehow represent the complex state)"
   ]
  },
  {
   "cell_type": "code",
   "execution_count": 173,
   "id": "8ba353f4",
   "metadata": {
    "scrolled": true
   },
   "outputs": [
    {
     "name": "stdout",
     "output_type": "stream",
     "text": [
      "The autoreload extension is already loaded. To reload it, use:\n",
      "  %reload_ext autoreload\n",
      "start\n",
      "Training Data shape: (2100, 5, 10, 10) \n"
     ]
    }
   ],
   "source": [
    "from CaAttributes import CaNeighbourhoods, MemoryTypes, RuleTypes\n",
    "%load_ext autoreload\n",
    "%autoreload 2\n",
    "from CaMemory import CaMemory\n",
    "from ca_funcs import make_glider, make_game_of_life\n",
    "import tensorflow as tf\n",
    "import numpy as np\n",
    "import random\n",
    "from train_ca import *\n",
    "import matplotlib.pyplot as plt\n",
    "import os\n",
    "from sklearn.model_selection import train_test_split\n",
    "class CustomCallback(tf.keras.callbacks.Callback):\n",
    "    def on_epoch_end(self,epoch, logs=None):\n",
    "        if logs.get('val_accuracy') == 1:\n",
    "            self.model.stop_training = True \n",
    "#Seedings and Config\n",
    " #keras.saving.get_custom_objects().clear()\n",
    "#Seedings and Config\n",
    "SEED =2\n",
    "print(\"start\")\n",
    "os.environ['PYTHONHASHSEED']=str(SEED)\n",
    "os.environ['TF_CUDNN_DETERMINISTIC'] = '1'  # TF 2.1\n",
    "random.seed(SEED)\n",
    "np.random.seed(SEED)\n",
    "tf.random.set_seed(SEED)\n",
    "tf.config.threading.set_inter_op_parallelism_threads(1)\n",
    "# 2100 outer totalistic  Generating Data\n",
    "samples=2100\n",
    "data_size, wspan, hspan = (samples, 10, 10)\n",
    "x_values = np.random.choice([0, 1], (data_size, wspan, hspan), p=[.5, .5])\n",
    "\n",
    "MEMORY_CONSTANT=2\n",
    "num_classes = 2  \n",
    "sequence_length=MEMORY_CONSTANT*2\n",
    "gol_m = CaMemory(grid_size=10 , rule_type=RuleTypes.OuterTotalistic,\n",
    "                neighbourhood_type=CaNeighbourhoods.Von_Neumann, memory_type=MemoryTypes.Most_Frequent, memory_horizon=MEMORY_CONSTANT)\n",
    "\n",
    "\n",
    "gol_m.set_rule([[0, 0, 0, 1, 0, 0, 0, 0, 0], [0, 0, 1, 1, 0, 0, 0, 0, 0]])\n",
    "\n",
    "\n",
    "sequences= np.array(gol_m.generate_training_data_sequences(x_values,sequence_length=sequence_length))\n",
    "print(f\"Training Data shape: {sequences.shape} \")\n",
    "x_sequence=sequences[:,2:4:,:]\n",
    "y_sequence=sequences[:,4,:,:]\n",
    "\n",
    "\n",
    "\n",
    "\n",
    "sequences_reshaped = x_sequence.reshape(samples, -1, wspan,hspan)\n",
    "sequences_reshaped=tf.constant(sequences_reshaped, dtype=tf.float32)\n",
    "\n",
    "\n",
    "Y_val_onehot = tf.squeeze(tf.one_hot(tf.cast( y_sequence.reshape(-1,  wspan* hspan,1), tf.int32), num_classes))\n",
    "split_index = round(samples*0.5)\n",
    "\n",
    "x_train, x_val = sequences_reshaped[:split_index] , sequences_reshaped[split_index:]     \n",
    "y_train, y_val = Y_val_onehot[:split_index], Y_val_onehot[split_index:]\n",
    "split_index=len(y_val)//2\n",
    "y_val, y_test = y_val[:split_index], y_val[split_index:]\n",
    "x_val, x_test = x_val[:split_index] , x_val[split_index:]   \n",
    "\n",
    "\n",
    "\n",
    "loss = lambda x, y: tf.keras.losses.categorical_crossentropy(tf.reshape(x, shape=(-1, num_classes)),\n",
    "                                                             tf.reshape(y, shape=(-1, num_classes)),\n",
    "                                                             from_logits=True)\n",
    "\n",
    "\n",
    "shape = (wspan, hspan)\n",
    "layer_dims = [10, 10,10] \n",
    "\n",
    "\n",
    " \n",
    "\n"
   ]
  },
  {
   "cell_type": "code",
   "execution_count": 164,
   "id": "b3046a16",
   "metadata": {},
   "outputs": [
    {
     "name": "stdout",
     "output_type": "stream",
     "text": [
      "\n",
      "Test Accuracy: 1.0 Test-Set Size: 525\n",
      "17/17 [==============================] - 0s 2ms/step\n",
      "\n",
      "Test Accuracy: 1.0 Test-Set Size: 525\n",
      "Errors: 0\n"
     ]
    }
   ],
   "source": [
    "test_seq=sequences[0:100]\n",
    "predictions2=predictions2.reshape(-1,100,2)\n",
    "final=[]\n",
    "errors=[]\n",
    "for grid in predictions2:\n",
    "    for row in grid:\n",
    "     res=[-1,-1]\n",
    "     res[np.argmax(row)]=1\n",
    "     res[np.argmin(row)]=0\n",
    "     #Only relevant if network does not acchieve 100% accuracy\n",
    "     if(res[0]==-1 or res[1]==-1):\n",
    "         errors.append(row)\n",
    "     final.append(res)\n",
    "y_test_reshaped=np.array(y_test).reshape(-1,100,2)\n",
    "final_pred_reshaped=np.array(final).reshape(-1,100,2)\n",
    "accuracy = (y_test_reshaped == final_pred_reshaped).mean()\n",
    "print()\n",
    "print(f\"Test Accuracy: {accuracy} Test-Set Size: {len(x_test)}\")\n",
    "predictions = model.predict(x_test)\n",
    "\n",
    "\n",
    "final=[]\n",
    "errors=[]\n",
    "for grid in predictions:\n",
    "    for row in grid:\n",
    "     res=[-1,-1]\n",
    "     res[np.argmax(row)]=1\n",
    "     res[np.argmin(row)]=0\n",
    "     #Only relevant if network does not acchieve 100% accuracy\n",
    "     if(res[0]==-1 or res[1]==-1):\n",
    "         errors.append(row)\n",
    "     final.append(res)\n",
    "y_test_reshaped=np.array(y_test).reshape(-1,100,2)\n",
    "final_pred_reshaped=np.array(final).reshape(-1,100,2)\n",
    "accuracy = (y_test_reshaped == final_pred_reshaped).mean()\n",
    "print()\n",
    "print(f\"Test Accuracy: {accuracy} Test-Set Size: {len(x_test)}\")\n",
    "print(f\"Errors: {len(errors)}\")"
   ]
  },
  {
   "cell_type": "code",
   "execution_count": 167,
   "id": "261fb426",
   "metadata": {},
   "outputs": [],
   "source": [
    "\n",
    "for i in range(predictions.shape[0]):\n",
    "    for y in range(predictions.shape[1]):\n",
    "        for z in range(predictions.shape[2]):\n",
    "            if (predictions[i][y][z] != predictions2[i][y][z]) and (np.argmax(predictions[i][y]) != np.argmax(predictions2[i][y])):\n",
    "                print(\"Indices i:\", i)\n",
    "                print(\"Indices y:\", y)\n",
    "                print(\"Indices z:\", z)\n"
   ]
  },
  {
   "cell_type": "code",
   "execution_count": 174,
   "id": "d12e6acc",
   "metadata": {},
   "outputs": [
    {
     "name": "stdout",
     "output_type": "stream",
     "text": [
      "(None, 2, 100)\n"
     ]
    }
   ],
   "source": [
    "\n",
    "   "
   ]
  },
  {
   "cell_type": "code",
   "execution_count": 185,
   "id": "a347eebb",
   "metadata": {},
   "outputs": [],
   "source": [
    "test_seq=sequences[0:100]\n"
   ]
  },
  {
   "cell_type": "code",
   "execution_count": 239,
   "id": "0521cf83",
   "metadata": {},
   "outputs": [
    {
     "name": "stdout",
     "output_type": "stream",
     "text": [
      "(None, 2, 100)\n",
      "100\n",
      "\n",
      "Test Accuracy: 1.0 Test-Set Size: 525\n",
      "Errors: 0\n"
     ]
    }
   ],
   "source": [
    "model =initialize_model_memory_debug((wspan, hspan), layer_dims, num_classes,totalistic=True,memory_horizon=MEMORY_CONSTANT) \n",
    "model.compile(optimizer=tf.keras.optimizers.Adam(learning_rate=1e-4), loss=loss, metrics=['accuracy'])\n",
    " \n",
    "test_seq=sequences[0:100]\n",
    "predictions=[]\n",
    "for x in test_seq:\n",
    "    predictions.append(model.predict(np.array(x[2:4]).reshape(-1,MEMORY_CONSTANT,10,10),verbose=False))\n",
    "predictions=np.array(predictions).reshape(-1,100,2)\n",
    " \n",
    "\n",
    "y_test=[]\n",
    "for v in test_seq:\n",
    "    y_test.append(gol_m.mostFrequentPastStateBinaryProvided(v[2:4]))\n",
    "print(len(y_test))\n",
    "\n",
    "y_test_reshaped=np.array(y_test).reshape(-1,100,2)\n",
    "final_pred_reshaped=np.array(predictions).reshape(-1,100,2)\n",
    "accuracy = (y_test_reshaped == final_pred_reshaped).mean()\n",
    "print()\n",
    "print(f\"Test Accuracy: {accuracy} Test-Set Size: {len(x_test)}\")\n",
    "print(f\"Errors: {len(errors)}\")"
   ]
  },
  {
   "cell_type": "code",
   "execution_count": 220,
   "id": "24160617",
   "metadata": {},
   "outputs": [
    {
     "data": {
      "text/plain": [
       "(5, 100, 2)"
      ]
     },
     "execution_count": 220,
     "metadata": {},
     "output_type": "execute_result"
    }
   ],
   "source": [
    "predictions.shape"
   ]
  },
  {
   "cell_type": "code",
   "execution_count": 233,
   "id": "c7884db7",
   "metadata": {},
   "outputs": [
    {
     "data": {
      "text/plain": [
       "array([[0., 1., 1., 0., 0., 0., 0., 1., 0., 0.],\n",
       "       [0., 0., 0., 1., 1., 1., 1., 0., 0., 0.],\n",
       "       [0., 1., 0., 1., 0., 1., 0., 1., 0., 0.],\n",
       "       [0., 0., 0., 0., 0., 0., 1., 1., 0., 1.],\n",
       "       [1., 0., 0., 0., 0., 0., 1., 0., 0., 1.],\n",
       "       [0., 0., 0., 0., 1., 1., 0., 0., 0., 1.],\n",
       "       [0., 0., 0., 1., 0., 1., 0., 0., 1., 0.],\n",
       "       [0., 0., 0., 1., 0., 0., 0., 0., 0., 0.],\n",
       "       [0., 0., 1., 0., 0., 0., 1., 0., 0., 0.],\n",
       "       [0., 0., 0., 1., 0., 0., 1., 0., 0., 0.]], dtype=float32)"
      ]
     },
     "execution_count": 233,
     "metadata": {},
     "output_type": "execute_result"
    }
   ],
   "source": [
    "(model.predict(np.array(sequences[3][2:4]).reshape(-1,MEMORY_CONSTANT,10,10),verbose=False)).reshape(10,10)"
   ]
  },
  {
   "cell_type": "code",
   "execution_count": 246,
   "id": "19da0c2f",
   "metadata": {},
   "outputs": [
    {
     "name": "stdout",
     "output_type": "stream",
     "text": [
      "[[0 0 0 0 0 0 0 1 1 0]\n",
      " [0 0 0 0 0 0 1 1 1 0]\n",
      " [0 1 0 1 0 1 0 0 1 0]\n",
      " [0 1 0 1 0 1 1 0 1 0]\n",
      " [0 0 0 1 0 1 0 0 1 0]\n",
      " [0 0 0 0 0 0 0 0 0 0]\n",
      " [0 0 0 0 0 0 0 1 0 1]\n",
      " [1 0 0 0 0 0 0 0 0 0]\n",
      " [0 0 0 0 0 0 0 1 1 1]\n",
      " [0 0 0 0 0 0 1 1 1 0]]\n",
      "[[0 0 0 0 0 0 0 0 0 1]\n",
      " [0 0 0 0 0 0 1 0 0 1]\n",
      " [0 0 0 0 0 1 0 0 1 1]\n",
      " [0 0 0 1 0 1 1 0 1 1]\n",
      " [0 0 1 0 0 1 1 1 0 0]\n",
      " [0 0 0 0 0 0 0 0 1 0]\n",
      " [0 0 0 0 0 0 0 0 0 0]\n",
      " [1 0 0 0 0 0 0 1 0 0]\n",
      " [0 0 0 0 0 0 1 0 0 1]\n",
      " [0 0 0 0 0 0 1 0 0 0]]\n"
     ]
    }
   ],
   "source": [
    "state=gol_m.mostFrequentPastStateBinaryProvided(sequences[0][2:4])\n",
    "\n",
    "gol = CaMemory(grid_size=10 , rule_type=RuleTypes.OuterTotalistic,\n",
    "                neighbourhood_type=CaNeighbourhoods.Von_Neumann, memory_type=MemoryTypes.Default, memory_horizon=MEMORY_CONSTANT)\n",
    "gol.set_rule([[0, 0, 0, 1, 0, 0, 0, 0, 0], [0, 0, 1, 1, 0, 0, 0, 0, 0]])\n",
    "gol.state=state\n",
    "print(gol.state)\n",
    "gol.step()\n",
    "print(gol.state)"
   ]
  },
  {
   "cell_type": "code",
   "execution_count": 247,
   "id": "868862b3",
   "metadata": {},
   "outputs": [
    {
     "data": {
      "text/plain": [
       "array([[0, 0, 0, 0, 0, 0, 0, 0, 0, 1],\n",
       "       [0, 0, 0, 0, 0, 0, 1, 0, 0, 1],\n",
       "       [0, 0, 0, 0, 0, 1, 0, 0, 1, 1],\n",
       "       [0, 0, 0, 1, 0, 1, 1, 0, 1, 1],\n",
       "       [0, 0, 1, 0, 0, 1, 1, 1, 0, 0],\n",
       "       [0, 0, 0, 0, 0, 0, 0, 0, 1, 0],\n",
       "       [0, 0, 0, 0, 0, 0, 0, 0, 0, 0],\n",
       "       [1, 0, 0, 0, 0, 0, 0, 1, 0, 0],\n",
       "       [0, 0, 0, 0, 0, 0, 1, 0, 0, 1],\n",
       "       [0, 0, 0, 0, 0, 0, 1, 0, 0, 0]])"
      ]
     },
     "execution_count": 247,
     "metadata": {},
     "output_type": "execute_result"
    }
   ],
   "source": [
    "sequences[0][4]"
   ]
  },
  {
   "cell_type": "code",
   "execution_count": null,
   "id": "53da3075",
   "metadata": {},
   "outputs": [],
   "source": []
  }
 ],
 "metadata": {
  "kernelspec": {
   "display_name": "Python 3 (ipykernel)",
   "language": "python",
   "name": "python3"
  },
  "language_info": {
   "codemirror_mode": {
    "name": "ipython",
    "version": 3
   },
   "file_extension": ".py",
   "mimetype": "text/x-python",
   "name": "python",
   "nbconvert_exporter": "python",
   "pygments_lexer": "ipython3",
   "version": "3.10.9"
  }
 },
 "nbformat": 4,
 "nbformat_minor": 5
}
